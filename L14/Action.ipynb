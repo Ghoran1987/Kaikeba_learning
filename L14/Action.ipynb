{
 "cells": [
  {
   "cell_type": "code",
   "execution_count": 1,
   "metadata": {},
   "outputs": [],
   "source": [
    "import requests\n",
    "from bs4 import BeautifulSoup\n",
    "import pandas as pd\n",
    "import re\n",
    "from collections import defaultdict\n",
    "import pickle"
   ]
  },
  {
   "cell_type": "code",
   "execution_count": 2,
   "metadata": {},
   "outputs": [],
   "source": [
    "def get_page_content(request_url):\n",
    "    headers={'user-agent': 'Mozilla/5.0 (Windows NT 6.1; WOW64) AppleWebKit/537.36 (KHTML, like Gecko) Chrome/59.0.3071.104 Safari/537.36'}\n",
    "    try:\n",
    "        r = requests.get(request_url, headers=headers,timeout=10)\n",
    "    except requests.exceptions.SSLError as err:\n",
    "        print(err)\n",
    "        r = requests.get(request_url, headers=headers,timeout=10, verify=False)\n",
    "    content=r.text\n",
    "    soup=BeautifulSoup(content,'html.parser',from_encoding='utf-8')\n",
    "    return soup"
   ]
  },
  {
   "cell_type": "code",
   "execution_count": 3,
   "metadata": {},
   "outputs": [
    {
     "name": "stderr",
     "output_type": "stream",
     "text": [
      "d:\\program files\\python\\lib\\site-packages\\bs4\\__init__.py:221: UserWarning: You provided Unicode markup but also provided a value for from_encoding. Your from_encoding will be ignored.\n",
      "  warnings.warn(\"You provided Unicode markup but also provided a value for from_encoding. Your from_encoding will be ignored.\")\n"
     ]
    }
   ],
   "source": [
    "request_url='https://ditie.mapbar.com/shanghai_line/'\n",
    "soup=get_page_content(request_url)"
   ]
  },
  {
   "cell_type": "code",
   "execution_count": 4,
   "metadata": {},
   "outputs": [],
   "source": [
    "subways=soup.find_all('div',attrs={'class':'station'})\n",
    "df=pd.DataFrame(columns=['route_name','station'])\n",
    "for subway in subways:\n",
    "    route_name=subway.find('strong',attrs={'class':'bolder'}).text\n",
    "    routes=subway.find('ul')\n",
    "    stations=routes.find_all('a')\n",
    "    for station in stations:\n",
    "        temp={'station':station.text,'route_name':route_name}\n",
    "        df=df.append(temp,ignore_index=True)\n",
    "df['city']='上海'\n",
    "##df.to_excel('./shanghai_subway.xlsx',index=False)\n",
    "        "
   ]
  },
  {
   "cell_type": "code",
   "execution_count": 5,
   "metadata": {},
   "outputs": [],
   "source": [
    "def get_location(keywords,city):\n",
    "    headers={'user-agent': 'Mozilla/5.0 (Windows NT 6.1; WOW64) AppleWebKit/537.36 (KHTML, like Gecko) Chrome/59.0.3071.104 Safari/537.36'}\n",
    "    request_url='http://restapi.amap.com/v3/place/text?key=d5104f60b63fdcb83705a6f14e155145&keywords='+keywords+'&types=&city='+city+'&children=1&offset=1&page=1&extensions=all'\n",
    "    try:\n",
    "        r = requests.get(request_url, headers=headers,timeout=10)\n",
    "    except requests.exceptions.SSLError as err:\n",
    "        print(err)\n",
    "        r = requests.get(request_url, headers=headers,timeout=10, verify=False)\n",
    "    r.encoding='utf-8'\n",
    "    data=r.text\n",
    "    pattern='location\":\"(.*?),(.*?)\"'\n",
    "    result=re.findall(pattern,data)\n",
    "    #print(result)\n",
    "    return result[0][0],result[0][1]"
   ]
  },
  {
   "cell_type": "code",
   "execution_count": 6,
   "metadata": {},
   "outputs": [],
   "source": [
    "df['longitude'],df['latitude']=None,None\n",
    "for index,row in df.iterrows():\n",
    "    longitude,latitude=get_location(row['station'],row['city'])\n",
    "    df.iloc[index]['longitude']=longitude\n",
    "    df.iloc[index]['latitude']=latitude\n",
    "df.to_excel('./shanghai_subway.xlsx',index=False)"
   ]
  },
  {
   "cell_type": "code",
   "execution_count": 7,
   "metadata": {},
   "outputs": [],
   "source": [
    "#利用高德地图提供的API计算并获取每两地铁站之间的距离和所需时间\n",
    "def compute_distance_duration(log1,lat1,log2,lat2):\n",
    "    headers={'user-agent': 'Mozilla/5.0 (Windows NT 6.1; WOW64) AppleWebKit/537.36 (KHTML, like Gecko) Chrome/59.0.3071.104 Safari/537.36'}\n",
    "    request_url='http://restapi.amap.com/v3/distance?key=d5104f60b63fdcb83705a6f14e155145&origins='+str(log1)+','+str(lat1)+'&destination='+str(log2)+','+str(lat2)+'&type=1'\n",
    "    try:\n",
    "        r = requests.get(request_url, headers=headers,timeout=10)\n",
    "    except requests.exceptions.SSLError as err:\n",
    "        print(err)\n",
    "        r = requests.get(request_url, headers=headers,timeout=10, verify=False)\n",
    "        r.encoding='utf-8'\n",
    "    data=r.text\n",
    "    pattern='distance\":\"(.*?)\",\"duration\":\"(.*?)\"'\n",
    "    result=re.findall(pattern,data)\n",
    "    return result[0][0],result[0][1]"
   ]
  },
  {
   "cell_type": "code",
   "execution_count": 8,
   "metadata": {},
   "outputs": [],
   "source": [
    "#建立每一个station与它相邻的station之间的距离和时间关系表\n",
    "def get_graph():\n",
    "    graph_distance,graph_duration=defaultdict(dict),defaultdict(dict)\n",
    "    for i in range(df.shape[0]):\n",
    "        route1=df.iloc[i]['route_name']\n",
    "        if i <df.shape[0]-1:\n",
    "            route2=df.iloc[i+1]['route_name']\n",
    "            if route1==route2:\n",
    "                longtitude1,latitude1=df.iloc[i]['longitude'],df.iloc[i]['latitude']\n",
    "                longtitude2,latitude2=df.iloc[i+1]['longitude'],df.iloc[i+1]['latitude']\n",
    "            \n",
    "                station1=df.iloc[i]['station']\n",
    "                station2=df.iloc[i+1]['station']\n",
    "            \n",
    "                distance,duration=compute_distance_duration(longtitude1,latitude1,longtitude2,latitude2)\n",
    "                graph_distance[station1][station2]=distance\n",
    "                graph_distance[station2][station1]=distance\n",
    "            \n",
    "                graph_duration[station1][station2]=duration\n",
    "                graph_duration[station2][station1]=duration\n",
    "    return graph_distance,graph_duration"
   ]
  },
  {
   "cell_type": "code",
   "execution_count": 9,
   "metadata": {},
   "outputs": [],
   "source": [
    "#将建立的station之间的距离和时间关系表保存，方便调用\n",
    "graph_distance,graph_duration=get_graph()\n",
    "output_graph_distance=open('graph_distance.pkl','wb')\n",
    "pickle.dump(graph_distance,output_graph_distance)\n",
    "output_graph_duration=open('graph_duration.pkl','wb')\n",
    "pickle.dump(graph_duration,output_graph_duration)"
   ]
  },
  {
   "cell_type": "code",
   "execution_count": 22,
   "metadata": {},
   "outputs": [],
   "source": [
    "#寻找最低开销节点\n",
    "def find_lowest_cost_node(costs,processed):\n",
    "    #print('processed:',processed)\n",
    "    #定义初始的最低开销为无穷大\n",
    "    lowest_cost=float('inf')\n",
    "    lowest_cost_node=None\n",
    "    #遍历已经进入costs中的每一个节点，并获取每一个节点开销，并与lowest_cost进行比较和更新\n",
    "    for node in costs:\n",
    "        #已经完成并加入processed中的节点不再遍历\n",
    "        if not node in processed:\n",
    "            if costs[node]<lowest_cost:\n",
    "                lowest_cost=costs[node]\n",
    "                lowest_cost_node=node\n",
    "    return lowest_cost_node"
   ]
  },
  {
   "cell_type": "code",
   "execution_count": 23,
   "metadata": {},
   "outputs": [],
   "source": [
    "#根据起始站和终点站返回最优路径\n",
    "def find_shortest_path(start_station,end_station,parents):\n",
    "    node=end_station\n",
    "    shortest_path=[end_station]\n",
    "    #从后往前推路径，最后的根节点为start\n",
    "    #print(start_station)\n",
    "    #循环，直至找到起始站\n",
    "    while parents[node]!=start_station:\n",
    "        shortest_path.append(parents[node])\n",
    "        node=parents[node]\n",
    "    shortest_path.append(start_station)\n",
    "    return shortest_path"
   ]
  },
  {
   "cell_type": "code",
   "execution_count": 44,
   "metadata": {},
   "outputs": [],
   "source": [
    "#定义Dijkstra方法，并利用该方法寻找每一个节点至start节点的最低开销关系\n",
    "def dijkstra(costs,processed,graph,parents):\n",
    "    #获取到start的最小开销节点node\n",
    "    node=find_lowest_cost_node(costs,processed)\n",
    "    while node is not None:\n",
    "        #获取当前node的开销值（即当前node到start的开销值）\n",
    "        cost_node_start=costs[node]\n",
    "        #print('costs:',costs)\n",
    "        #print('{}-{}'.format(node,costs[node]))\n",
    "        #获取当前node的邻居\n",
    "        for neighber in graph[node].keys():\n",
    "            if not neighber in processed:\n",
    "                #print(neighber)\n",
    "                #计算每一个邻居到当前node的开销\n",
    "                cost_neighber_node=float(graph[node][neighber])\n",
    "                #每一个邻居到start的开销值=每一个邻居到当前node的开销+当前node到start的开销\n",
    "                cost_neighber_start=cost_neighber_node+cost_node_start\n",
    "                #如果新求得的neighber到start开销值比已知的开销值小，则将开销值costs[neighber]进行更新\n",
    "                if neighber not in costs or cost_neighber_start<costs[neighber]:\n",
    "                    costs[neighber]=cost_neighber_start\n",
    "                    #记录当前neighber的父节点\n",
    "                    parents[neighber]=node\n",
    "                    #将当前节点标记为已经处理,相当于Dijkstra算法中的S集合\n",
    "                    #print(parents)\n",
    "        processed.append(node)\n",
    "        #print(processed)\n",
    "        #继续寻找U中最小开销节点，然后对node进行更新，再次循环。costs相当于Dijkstra算法中的集合U\n",
    "        node=find_lowest_cost_node(costs,processed)\n",
    "        #print('当前cost最小节点为{}，cost值为{}'.format(node,costs[node])) "
   ]
  },
  {
   "cell_type": "code",
   "execution_count": 45,
   "metadata": {},
   "outputs": [],
   "source": [
    "#建立上海地铁的查询方法，输入参数为：起始站，终点站，以及按距离或时间方法检索。graph_index确定按时间最短还是距离最短，‘1’表示时间，‘0’表示距离\n",
    "def metro_navigation_shanghai(start_station,end_station,graph_index):\n",
    "    if graph_index=='0':\n",
    "        file=open('graph_distance.pkl','rb')\n",
    "    else:\n",
    "        file=open('graph_duration.pkl','rb')\n",
    "           \n",
    "    graph=pickle.load(file)\n",
    "    \n",
    "    #创建节点的开销表，costs是指从start到该节点的距离\n",
    "    costs={}\n",
    "    #存储父节点，用于记录路径\n",
    "    parents={}\n",
    "    parents[end_station]=None\n",
    "    #记录处理过的节点list\n",
    "    processed=[start_station]\n",
    "    \n",
    "    costs[end_station]=float('inf')\n",
    "    \n",
    "    #从起始节点开始，计算起始节点相邻节点的开销值，并将起始节点标记为这些相邻节点的父节点\n",
    "    for node in graph[start_station].keys():\n",
    "        costs[node]=float(graph[start_station][node])\n",
    "        parents[node]=start_station\n",
    "\n",
    "    dijkstra(costs,processed,graph,parents)\n",
    "    #获取最短路径\n",
    "    shortest_path=find_shortest_path(start_station,end_station,parents)\n",
    "    best_path='END'\n",
    "    for paths in shortest_path:\n",
    "        best_path=paths+'->'+best_path\n",
    "    return best_path  "
   ]
  },
  {
   "cell_type": "code",
   "execution_count": 46,
   "metadata": {},
   "outputs": [
    {
     "name": "stdout",
     "output_type": "stream",
     "text": [
      "虹口足球场站至临平路站距离最短最佳地铁路线是:虹口足球场站->东宝兴路站->宝山路站->海伦路站->临平路站->END\n"
     ]
    }
   ],
   "source": [
    "#按距离最短\n",
    "start_station='虹口足球场站'\n",
    "end_station='临平路站'\n",
    "shortest_path=metro_navigation_shanghai(start_station,end_station,'0')\n",
    "print('{}至{}距离最短最佳地铁路线是:{}'.format(start_station,end_station,shortest_path))"
   ]
  },
  {
   "cell_type": "code",
   "execution_count": 31,
   "metadata": {},
   "outputs": [
    {
     "name": "stdout",
     "output_type": "stream",
     "text": [
      "莘庄站至紫藤路站时间最短最佳地铁路线是:莘庄站->外环路站->莲花路站->锦江乐园站->上海南站->漕宝路站->上海体育馆站->宜山路站->虹桥路站->宋园路站->伊犁路站->水城路站->龙溪路站->龙柏新村站->紫藤路站->END\n"
     ]
    }
   ],
   "source": [
    "#按时间最短\n",
    "start_station='莘庄站'\n",
    "end_station='紫藤路站'\n",
    "shortest_path=metro_navigation_shanghai(start_station,end_station,'1')\n",
    "print('{}至{}时间最短最佳地铁路线是:{}'.format(start_station,end_station,shortest_path))"
   ]
  }
 ],
 "metadata": {
  "kernelspec": {
   "display_name": "Python 3",
   "language": "python",
   "name": "python3"
  },
  "language_info": {
   "codemirror_mode": {
    "name": "ipython",
    "version": 3
   },
   "file_extension": ".py",
   "mimetype": "text/x-python",
   "name": "python",
   "nbconvert_exporter": "python",
   "pygments_lexer": "ipython3",
   "version": "3.7.8"
  }
 },
 "nbformat": 4,
 "nbformat_minor": 4
}
