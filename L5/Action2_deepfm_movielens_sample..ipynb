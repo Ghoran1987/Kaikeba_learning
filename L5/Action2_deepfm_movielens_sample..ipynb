{
 "cells": [
  {
   "cell_type": "code",
   "execution_count": 5,
   "metadata": {},
   "outputs": [],
   "source": [
    "import pandas as pd\n",
    "from sklearn.metrics import mean_squared_error\n",
    "from sklearn.model_selection import train_test_split\n",
    "from sklearn.preprocessing import LabelEncoder\n",
    "from deepctr.models import DeepFM\n",
    "from deepctr.feature_column import SparseFeat,get_feature_names"
   ]
  },
  {
   "cell_type": "code",
   "execution_count": 7,
   "metadata": {},
   "outputs": [
    {
     "name": "stdout",
     "output_type": "stream",
     "text": [
      "     user_id  movie_id  rating  timestamp  \\\n",
      "0       3299       235       4  968035345   \n",
      "1       3630      3256       3  966536874   \n",
      "2        517       105       4  976203603   \n",
      "3        785      2115       3  975430389   \n",
      "4       5848       909       5  957782527   \n",
      "..       ...       ...     ...        ...   \n",
      "195     1427      3596       3  974840560   \n",
      "196     3868      1626       3  965855033   \n",
      "197      249      2369       3  976730191   \n",
      "198     5720       349       4  958503395   \n",
      "199      877      1485       3  975270899   \n",
      "\n",
      "                                           title                     genres  \\\n",
      "0                                 Ed Wood (1994)               Comedy|Drama   \n",
      "1                           Patriot Games (1992)            Action|Thriller   \n",
      "2          Bridges of Madison County, The (1995)              Drama|Romance   \n",
      "3    Indiana Jones and the Temple of Doom (1984)           Action|Adventure   \n",
      "4                          Apartment, The (1960)               Comedy|Drama   \n",
      "..                                           ...                        ...   \n",
      "195                               Screwed (2000)                     Comedy   \n",
      "196                       Fire Down Below (1997)      Action|Drama|Thriller   \n",
      "197             Desperately Seeking Susan (1985)             Comedy|Romance   \n",
      "198              Clear and Present Danger (1994)  Action|Adventure|Thriller   \n",
      "199                             Liar Liar (1997)                     Comedy   \n",
      "\n",
      "    gender  age  occupation    zip  \n",
      "0        F   25           4  19119  \n",
      "1        M   18           4  77005  \n",
      "2        F   25          14  55408  \n",
      "3        M   18          19  29307  \n",
      "4        M   50          20  20009  \n",
      "..     ...  ...         ...    ...  \n",
      "195      M   25          12  21401  \n",
      "196      M   18          12  73112  \n",
      "197      F   18          14  48126  \n",
      "198      M   25           0  60610  \n",
      "199      M   25           0  90631  \n",
      "\n",
      "[200 rows x 10 columns]\n"
     ]
    }
   ],
   "source": [
    "#数据加载\n",
    "data = pd.read_csv(\"movielens_sample.txt\")\n",
    "sparse_features = [\"movie_id\", \"user_id\", \"gender\", \"age\", \"occupation\", \"zip\"]\n",
    "target = ['rating']\n",
    "print(data)"
   ]
  },
  {
   "cell_type": "code",
   "execution_count": 9,
   "metadata": {},
   "outputs": [
    {
     "name": "stdout",
     "output_type": "stream",
     "text": [
      "     user_id  movie_id  rating  timestamp  \\\n",
      "0        107        12       4  968035345   \n",
      "1        123       169       3  966536874   \n",
      "2         12         6       4  976203603   \n",
      "3         21       112       3  975430389   \n",
      "4        187        45       5  957782527   \n",
      "..       ...       ...     ...        ...   \n",
      "195       46       176       3  974840560   \n",
      "196      131        89       3  965855033   \n",
      "197        4       125       3  976730191   \n",
      "198      181        15       4  958503395   \n",
      "199       25        86       3  975270899   \n",
      "\n",
      "                                           title                     genres  \\\n",
      "0                                 Ed Wood (1994)               Comedy|Drama   \n",
      "1                           Patriot Games (1992)            Action|Thriller   \n",
      "2          Bridges of Madison County, The (1995)              Drama|Romance   \n",
      "3    Indiana Jones and the Temple of Doom (1984)           Action|Adventure   \n",
      "4                          Apartment, The (1960)               Comedy|Drama   \n",
      "..                                           ...                        ...   \n",
      "195                               Screwed (2000)                     Comedy   \n",
      "196                       Fire Down Below (1997)      Action|Drama|Thriller   \n",
      "197             Desperately Seeking Susan (1985)             Comedy|Romance   \n",
      "198              Clear and Present Danger (1994)  Action|Adventure|Thriller   \n",
      "199                             Liar Liar (1997)                     Comedy   \n",
      "\n",
      "     gender  age  occupation  zip  \n",
      "0         0    2           4   35  \n",
      "1         1    1           4  118  \n",
      "2         0    2          13   99  \n",
      "3         1    1          18   55  \n",
      "4         1    5          19   41  \n",
      "..      ...  ...         ...  ...  \n",
      "195       1    2          11   48  \n",
      "196       1    1          11  113  \n",
      "197       0    1          13   83  \n",
      "198       1    2           0  106  \n",
      "199       1    2           0  136  \n",
      "\n",
      "[200 rows x 10 columns]\n"
     ]
    }
   ],
   "source": [
    "# 对特征标签进行编码\n",
    "for feature in sparse_features:\n",
    "    lbe = LabelEncoder()\n",
    "    data[feature] = lbe.fit_transform(data[feature])\n",
    "print(data)"
   ]
  },
  {
   "cell_type": "code",
   "execution_count": 32,
   "metadata": {},
   "outputs": [
    {
     "name": "stdout",
     "output_type": "stream",
     "text": [
      "['movie_id', 'user_id', 'gender', 'age', 'occupation', 'zip']\n"
     ]
    }
   ],
   "source": [
    "# 计算每个特征中的 不同特征值的个数???????/不太懂\n",
    "fixlen_feature_columns = [SparseFeat(feature, data[feature].nunique()) for feature in sparse_features]\n",
    "#x=SparseFeat(sparse_features[0], data[sparse_features[0]].nunique())\n",
    "#print(x)\n",
    "#print(fixlen_feature_columns)\n",
    "linear_feature_columns = fixlen_feature_columns\n",
    "dnn_feature_columns = fixlen_feature_columns\n",
    "feature_names = get_feature_names(linear_feature_columns + dnn_feature_columns)\n",
    "print(feature_names)"
   ]
  },
  {
   "cell_type": "code",
   "execution_count": 33,
   "metadata": {},
   "outputs": [
    {
     "name": "stdout",
     "output_type": "stream",
     "text": [
      "{'movie_id': array([143,  17,  39, 103,  49,  98, 161, 136,  90,  14, 168,  86,  89,\n",
      "       113,  53,  32, 112,  79, 165, 184,  40,   9,  43, 145, 156,  72,\n",
      "         6,  38,  19,  48,  75,  45,  35,   4,   7, 101, 108, 120, 125,\n",
      "        28,  84, 110, 107,  92,  78, 173,  81,   1,  10, 154,  58, 131,\n",
      "        82, 116,  62, 122, 147,  44, 118,  66, 159, 111, 109, 134,  11,\n",
      "       105, 155, 106,  80,  25,  55, 166,  18, 167,  56,  30, 151,  65,\n",
      "       177, 169,  12, 176,  33, 135,  77,  99,  69, 182, 141,  51, 170,\n",
      "       115,  31,  88, 169, 164,  52, 104, 142, 152, 102, 173, 186, 117,\n",
      "        46, 178,   9, 146,   5,  97,  60, 170, 137, 126, 144,  72, 179,\n",
      "        34,   8, 183,  66,  41, 172, 130,  94, 149,  87,  91, 100,   2,\n",
      "        29,  57,  85, 124, 129, 148,  27, 180,  15,  20, 171,  95, 150,\n",
      "       181,  21,  96, 126,  23,  13,  27,  63, 112,   3,  76,  67, 114,\n",
      "       128,  73,  61, 153], dtype=int64), 'user_id': array([114, 165,   3,  18,  76,  35,  89,  66,  60,  23, 192,  25, 131,\n",
      "       188,   2, 126,  21,  57, 156,  61,  78, 184, 102, 100,  24,  90,\n",
      "        12,  19,  27,  74,   8, 187, 133, 130, 185, 143,   1,  47,   4,\n",
      "       139, 104,  88,  59, 162, 129,  10,  29, 180, 170,  92, 140,  75,\n",
      "        97, 144, 155,  65, 117,  22,  42, 183, 164, 160, 191, 112,  13,\n",
      "       121, 105,  80, 171,   9, 152, 136, 158, 174,  85, 134, 153,  53,\n",
      "       115, 110, 107,  46,  91,  50,  63,  56, 111, 106, 163,  79,  11,\n",
      "       128, 124, 118, 123, 135,   6,  54,   5,  36,  48,   7,  67, 176,\n",
      "        81,  32,  45,  99, 120, 173,  98, 178, 175,  37,  64,  86, 137,\n",
      "       157, 150,  99, 154,  34, 168, 146, 177, 109,  44,  77,  73,  14,\n",
      "       108,  30,  84, 159, 186,  82,  39, 145, 181,  20, 122,  70,  29,\n",
      "       167,  96, 138,  94,  93,  15, 189, 151, 182,  71,  31,  69, 148,\n",
      "        49, 166,  40, 127], dtype=int64), 'gender': array([1, 0, 1, 1, 1, 0, 1, 1, 0, 0, 1, 1, 1, 1, 1, 1, 1, 0, 0, 1, 1, 1,\n",
      "       0, 1, 1, 1, 0, 1, 0, 1, 0, 1, 1, 1, 1, 1, 1, 1, 0, 1, 0, 1, 1, 0,\n",
      "       1, 1, 1, 1, 1, 0, 1, 0, 0, 1, 1, 1, 1, 1, 0, 1, 0, 1, 0, 1, 0, 0,\n",
      "       1, 1, 1, 1, 1, 0, 1, 1, 1, 1, 1, 1, 1, 1, 0, 1, 1, 1, 1, 1, 1, 1,\n",
      "       1, 1, 1, 1, 1, 1, 1, 0, 1, 1, 1, 1, 1, 1, 1, 1, 1, 1, 1, 1, 0, 1,\n",
      "       1, 0, 1, 0, 1, 1, 1, 1, 1, 1, 1, 0, 1, 1, 0, 1, 1, 0, 0, 1, 0, 1,\n",
      "       0, 1, 1, 0, 0, 1, 1, 1, 1, 1, 1, 1, 1, 1, 1, 0, 1, 1, 1, 0, 1, 0,\n",
      "       1, 0, 1, 1, 1, 1], dtype=int64), 'age': array([3, 2, 1, 2, 5, 2, 2, 5, 1, 2, 2, 2, 1, 2, 1, 4, 1, 5, 5, 2, 1, 2,\n",
      "       0, 4, 5, 3, 2, 1, 5, 1, 3, 5, 2, 2, 2, 5, 6, 2, 1, 5, 2, 1, 2, 3,\n",
      "       5, 3, 2, 3, 2, 5, 2, 3, 3, 2, 6, 1, 3, 0, 2, 1, 5, 5, 2, 3, 2, 1,\n",
      "       5, 2, 2, 2, 3, 2, 3, 2, 3, 2, 2, 5, 1, 3, 2, 2, 1, 2, 2, 2, 3, 2,\n",
      "       4, 5, 2, 3, 3, 1, 1, 2, 5, 2, 2, 1, 2, 2, 2, 4, 4, 1, 2, 1, 4, 1,\n",
      "       3, 2, 4, 1, 2, 5, 2, 1, 6, 1, 6, 2, 3, 6, 2, 2, 3, 1, 6, 3, 1, 3,\n",
      "       0, 3, 2, 4, 1, 3, 2, 0, 6, 4, 2, 1, 2, 3, 1, 3, 5, 0, 2, 2, 6, 4,\n",
      "       4, 2, 2, 2, 3, 0], dtype=int64), 'occupation': array([ 0,  8,  1,  0, 15, 18, 13, 15,  4, 15,  6,  0, 11,  7,  4,  7, 18,\n",
      "        6, 17,  0,  0,  2,  1,  1,  1, 10, 13,  4,  0,  4,  0, 19,  0,  7,\n",
      "        0,  0,  1,  7, 13,  7, 17,  4,  3,  4,  6,  7,  0, 16, 15, 19, 16,\n",
      "        3, 19,  4,  1,  0,  2, 18, 13, 14, 11, 13, 14,  1,  0, 14, 12,  0,\n",
      "       11, 11,  5,  0, 16, 10,  1, 16, 13, 15,  4,  7,  4, 11, 16,  0, 18,\n",
      "       19, 19, 19,  1, 11, 15,  6,  7, 16,  4, 14, 14, 19, 11,  4, 11,  2,\n",
      "        7,  1,  6,  4,  0,  0,  0, 11, 11,  6,  7, 19,  0,  1, 18,  4,  7,\n",
      "        0,  1,  3,  1,  1, 16, 11, 14,  4, 12, 19,  4,  3,  9,  0,  1,  1,\n",
      "        1, 16,  0,  9, 16, 19,  0, 13,  0, 15,  0,  0, 16,  9,  2, 10, 12,\n",
      "        8, 13,  1,  0,  7,  4,  9], dtype=int64), 'zip': array([183, 150,  24,  67,  15, 128,  38, 143, 118,  74,  26, 136, 113,\n",
      "        11,  13,  56,  55,  60,  14,  78,  94, 115, 137, 136,  45,  80,\n",
      "        99, 180, 182, 101,  97,  41, 127, 102, 146,   1,  86, 133,  83,\n",
      "        71,  47, 152, 173, 174,  30,  18,  21,  17,  58,  54, 185, 187,\n",
      "       178,  79,  71, 162, 107,  89,  66, 153, 167,  98,  62,  43,  68,\n",
      "         7, 154,  77, 161,  96, 172,  42, 129,  99,  50,  84,  52, 184,\n",
      "       122, 116,  35,  48,  90, 164,  29,  37,  59,   5,  34, 125,  93,\n",
      "        91,  16, 111, 118, 126,  95, 166, 139, 181, 147, 140, 151, 145,\n",
      "         4, 132, 131, 108, 121, 134, 171,   8,   3,  85,  19,  69,  28,\n",
      "       109,  70, 108,  51, 124, 114,  76,   2, 120,  44,  31,   9,  23,\n",
      "       130,  27,  82, 155, 142, 105, 158,  39, 106,  72,  49, 148,  21,\n",
      "        20,  22,  75,  88,  10,  64,  46, 176,   6, 163, 169, 165, 141,\n",
      "       104, 103, 179,  12], dtype=int64)}\n"
     ]
    }
   ],
   "source": [
    "# 将数据集切分成训练集和测试集\n",
    "train, test = train_test_split(data, test_size=0.2)\n",
    "train_model_input = {name:train[name].values for name in feature_names}\n",
    "test_model_input = {name:test[name].values for name in feature_names}\n",
    "print(train_model_input)"
   ]
  },
  {
   "cell_type": "code",
   "execution_count": 28,
   "metadata": {},
   "outputs": [
    {
     "name": "stdout",
     "output_type": "stream",
     "text": [
      "WARNING:tensorflow:Entity <bound method NoMask.call of <deepctr.layers.utils.NoMask object at 0x000000002EC1F308>> could not be transformed and will be executed as-is. Please report this to the AutgoGraph team. When filing the bug, set the verbosity to 10 (on Linux, `export AUTOGRAPH_VERBOSITY=10`) and attach the full output. Cause: converting <bound method NoMask.call of <deepctr.layers.utils.NoMask object at 0x000000002EC1F308>>: AssertionError: Bad argument number for Name: 3, expecting 4\n",
      "WARNING: Entity <bound method NoMask.call of <deepctr.layers.utils.NoMask object at 0x000000002EC1F308>> could not be transformed and will be executed as-is. Please report this to the AutgoGraph team. When filing the bug, set the verbosity to 10 (on Linux, `export AUTOGRAPH_VERBOSITY=10`) and attach the full output. Cause: converting <bound method NoMask.call of <deepctr.layers.utils.NoMask object at 0x000000002EC1F308>>: AssertionError: Bad argument number for Name: 3, expecting 4\n",
      "WARNING:tensorflow:Entity <bound method NoMask.call of <deepctr.layers.utils.NoMask object at 0x000000002EC1F308>> could not be transformed and will be executed as-is. Please report this to the AutgoGraph team. When filing the bug, set the verbosity to 10 (on Linux, `export AUTOGRAPH_VERBOSITY=10`) and attach the full output. Cause: converting <bound method NoMask.call of <deepctr.layers.utils.NoMask object at 0x000000002EC1F308>>: AssertionError: Bad argument number for Name: 3, expecting 4\n",
      "WARNING: Entity <bound method NoMask.call of <deepctr.layers.utils.NoMask object at 0x000000002EC1F308>> could not be transformed and will be executed as-is. Please report this to the AutgoGraph team. When filing the bug, set the verbosity to 10 (on Linux, `export AUTOGRAPH_VERBOSITY=10`) and attach the full output. Cause: converting <bound method NoMask.call of <deepctr.layers.utils.NoMask object at 0x000000002EC1F308>>: AssertionError: Bad argument number for Name: 3, expecting 4\n",
      "WARNING:tensorflow:Entity <bound method NoMask.call of <deepctr.layers.utils.NoMask object at 0x000000002EC1F308>> could not be transformed and will be executed as-is. Please report this to the AutgoGraph team. When filing the bug, set the verbosity to 10 (on Linux, `export AUTOGRAPH_VERBOSITY=10`) and attach the full output. Cause: converting <bound method NoMask.call of <deepctr.layers.utils.NoMask object at 0x000000002EC1F308>>: AssertionError: Bad argument number for Name: 3, expecting 4\n",
      "WARNING: Entity <bound method NoMask.call of <deepctr.layers.utils.NoMask object at 0x000000002EC1F308>> could not be transformed and will be executed as-is. Please report this to the AutgoGraph team. When filing the bug, set the verbosity to 10 (on Linux, `export AUTOGRAPH_VERBOSITY=10`) and attach the full output. Cause: converting <bound method NoMask.call of <deepctr.layers.utils.NoMask object at 0x000000002EC1F308>>: AssertionError: Bad argument number for Name: 3, expecting 4\n",
      "WARNING:tensorflow:Entity <bound method NoMask.call of <deepctr.layers.utils.NoMask object at 0x000000002EC1F308>> could not be transformed and will be executed as-is. Please report this to the AutgoGraph team. When filing the bug, set the verbosity to 10 (on Linux, `export AUTOGRAPH_VERBOSITY=10`) and attach the full output. Cause: converting <bound method NoMask.call of <deepctr.layers.utils.NoMask object at 0x000000002EC1F308>>: AssertionError: Bad argument number for Name: 3, expecting 4\n",
      "WARNING: Entity <bound method NoMask.call of <deepctr.layers.utils.NoMask object at 0x000000002EC1F308>> could not be transformed and will be executed as-is. Please report this to the AutgoGraph team. When filing the bug, set the verbosity to 10 (on Linux, `export AUTOGRAPH_VERBOSITY=10`) and attach the full output. Cause: converting <bound method NoMask.call of <deepctr.layers.utils.NoMask object at 0x000000002EC1F308>>: AssertionError: Bad argument number for Name: 3, expecting 4\n",
      "WARNING:tensorflow:Entity <bound method NoMask.call of <deepctr.layers.utils.NoMask object at 0x000000002EC1F308>> could not be transformed and will be executed as-is. Please report this to the AutgoGraph team. When filing the bug, set the verbosity to 10 (on Linux, `export AUTOGRAPH_VERBOSITY=10`) and attach the full output. Cause: converting <bound method NoMask.call of <deepctr.layers.utils.NoMask object at 0x000000002EC1F308>>: AssertionError: Bad argument number for Name: 3, expecting 4\n",
      "WARNING: Entity <bound method NoMask.call of <deepctr.layers.utils.NoMask object at 0x000000002EC1F308>> could not be transformed and will be executed as-is. Please report this to the AutgoGraph team. When filing the bug, set the verbosity to 10 (on Linux, `export AUTOGRAPH_VERBOSITY=10`) and attach the full output. Cause: converting <bound method NoMask.call of <deepctr.layers.utils.NoMask object at 0x000000002EC1F308>>: AssertionError: Bad argument number for Name: 3, expecting 4\n",
      "WARNING:tensorflow:Entity <bound method NoMask.call of <deepctr.layers.utils.NoMask object at 0x000000002EC1F308>> could not be transformed and will be executed as-is. Please report this to the AutgoGraph team. When filing the bug, set the verbosity to 10 (on Linux, `export AUTOGRAPH_VERBOSITY=10`) and attach the full output. Cause: converting <bound method NoMask.call of <deepctr.layers.utils.NoMask object at 0x000000002EC1F308>>: AssertionError: Bad argument number for Name: 3, expecting 4\n",
      "WARNING: Entity <bound method NoMask.call of <deepctr.layers.utils.NoMask object at 0x000000002EC1F308>> could not be transformed and will be executed as-is. Please report this to the AutgoGraph team. When filing the bug, set the verbosity to 10 (on Linux, `export AUTOGRAPH_VERBOSITY=10`) and attach the full output. Cause: converting <bound method NoMask.call of <deepctr.layers.utils.NoMask object at 0x000000002EC1F308>>: AssertionError: Bad argument number for Name: 3, expecting 4\n",
      "WARNING:tensorflow:Entity <bound method Linear.call of <deepctr.layers.utils.Linear object at 0x000000002EC89688>> could not be transformed and will be executed as-is. Please report this to the AutgoGraph team. When filing the bug, set the verbosity to 10 (on Linux, `export AUTOGRAPH_VERBOSITY=10`) and attach the full output. Cause: converting <bound method Linear.call of <deepctr.layers.utils.Linear object at 0x000000002EC89688>>: AssertionError: Bad argument number for Name: 3, expecting 4\n",
      "WARNING: Entity <bound method Linear.call of <deepctr.layers.utils.Linear object at 0x000000002EC89688>> could not be transformed and will be executed as-is. Please report this to the AutgoGraph team. When filing the bug, set the verbosity to 10 (on Linux, `export AUTOGRAPH_VERBOSITY=10`) and attach the full output. Cause: converting <bound method Linear.call of <deepctr.layers.utils.Linear object at 0x000000002EC89688>>: AssertionError: Bad argument number for Name: 3, expecting 4\n",
      "WARNING:tensorflow:Entity <bound method NoMask.call of <deepctr.layers.utils.NoMask object at 0x000000002EC89708>> could not be transformed and will be executed as-is. Please report this to the AutgoGraph team. When filing the bug, set the verbosity to 10 (on Linux, `export AUTOGRAPH_VERBOSITY=10`) and attach the full output. Cause: converting <bound method NoMask.call of <deepctr.layers.utils.NoMask object at 0x000000002EC89708>>: AssertionError: Bad argument number for Name: 3, expecting 4\n",
      "WARNING: Entity <bound method NoMask.call of <deepctr.layers.utils.NoMask object at 0x000000002EC89708>> could not be transformed and will be executed as-is. Please report this to the AutgoGraph team. When filing the bug, set the verbosity to 10 (on Linux, `export AUTOGRAPH_VERBOSITY=10`) and attach the full output. Cause: converting <bound method NoMask.call of <deepctr.layers.utils.NoMask object at 0x000000002EC89708>>: AssertionError: Bad argument number for Name: 3, expecting 4\n",
      "WARNING:tensorflow:Entity <bound method NoMask.call of <deepctr.layers.utils.NoMask object at 0x000000002EC99E88>> could not be transformed and will be executed as-is. Please report this to the AutgoGraph team. When filing the bug, set the verbosity to 10 (on Linux, `export AUTOGRAPH_VERBOSITY=10`) and attach the full output. Cause: converting <bound method NoMask.call of <deepctr.layers.utils.NoMask object at 0x000000002EC99E88>>: AssertionError: Bad argument number for Name: 3, expecting 4\n"
     ]
    },
    {
     "name": "stdout",
     "output_type": "stream",
     "text": [
      "WARNING: Entity <bound method NoMask.call of <deepctr.layers.utils.NoMask object at 0x000000002EC99E88>> could not be transformed and will be executed as-is. Please report this to the AutgoGraph team. When filing the bug, set the verbosity to 10 (on Linux, `export AUTOGRAPH_VERBOSITY=10`) and attach the full output. Cause: converting <bound method NoMask.call of <deepctr.layers.utils.NoMask object at 0x000000002EC99E88>>: AssertionError: Bad argument number for Name: 3, expecting 4\n",
      "WARNING:tensorflow:Entity <bound method NoMask.call of <deepctr.layers.utils.NoMask object at 0x000000002EC99E88>> could not be transformed and will be executed as-is. Please report this to the AutgoGraph team. When filing the bug, set the verbosity to 10 (on Linux, `export AUTOGRAPH_VERBOSITY=10`) and attach the full output. Cause: converting <bound method NoMask.call of <deepctr.layers.utils.NoMask object at 0x000000002EC99E88>>: AssertionError: Bad argument number for Name: 3, expecting 4\n",
      "WARNING: Entity <bound method NoMask.call of <deepctr.layers.utils.NoMask object at 0x000000002EC99E88>> could not be transformed and will be executed as-is. Please report this to the AutgoGraph team. When filing the bug, set the verbosity to 10 (on Linux, `export AUTOGRAPH_VERBOSITY=10`) and attach the full output. Cause: converting <bound method NoMask.call of <deepctr.layers.utils.NoMask object at 0x000000002EC99E88>>: AssertionError: Bad argument number for Name: 3, expecting 4\n",
      "WARNING:tensorflow:Entity <bound method NoMask.call of <deepctr.layers.utils.NoMask object at 0x000000002EC99E88>> could not be transformed and will be executed as-is. Please report this to the AutgoGraph team. When filing the bug, set the verbosity to 10 (on Linux, `export AUTOGRAPH_VERBOSITY=10`) and attach the full output. Cause: converting <bound method NoMask.call of <deepctr.layers.utils.NoMask object at 0x000000002EC99E88>>: AssertionError: Bad argument number for Name: 3, expecting 4\n",
      "WARNING: Entity <bound method NoMask.call of <deepctr.layers.utils.NoMask object at 0x000000002EC99E88>> could not be transformed and will be executed as-is. Please report this to the AutgoGraph team. When filing the bug, set the verbosity to 10 (on Linux, `export AUTOGRAPH_VERBOSITY=10`) and attach the full output. Cause: converting <bound method NoMask.call of <deepctr.layers.utils.NoMask object at 0x000000002EC99E88>>: AssertionError: Bad argument number for Name: 3, expecting 4\n",
      "WARNING:tensorflow:Entity <bound method NoMask.call of <deepctr.layers.utils.NoMask object at 0x000000002EC99E88>> could not be transformed and will be executed as-is. Please report this to the AutgoGraph team. When filing the bug, set the verbosity to 10 (on Linux, `export AUTOGRAPH_VERBOSITY=10`) and attach the full output. Cause: converting <bound method NoMask.call of <deepctr.layers.utils.NoMask object at 0x000000002EC99E88>>: AssertionError: Bad argument number for Name: 3, expecting 4\n",
      "WARNING: Entity <bound method NoMask.call of <deepctr.layers.utils.NoMask object at 0x000000002EC99E88>> could not be transformed and will be executed as-is. Please report this to the AutgoGraph team. When filing the bug, set the verbosity to 10 (on Linux, `export AUTOGRAPH_VERBOSITY=10`) and attach the full output. Cause: converting <bound method NoMask.call of <deepctr.layers.utils.NoMask object at 0x000000002EC99E88>>: AssertionError: Bad argument number for Name: 3, expecting 4\n",
      "WARNING:tensorflow:Entity <bound method NoMask.call of <deepctr.layers.utils.NoMask object at 0x000000002EC99E88>> could not be transformed and will be executed as-is. Please report this to the AutgoGraph team. When filing the bug, set the verbosity to 10 (on Linux, `export AUTOGRAPH_VERBOSITY=10`) and attach the full output. Cause: converting <bound method NoMask.call of <deepctr.layers.utils.NoMask object at 0x000000002EC99E88>>: AssertionError: Bad argument number for Name: 3, expecting 4\n",
      "WARNING: Entity <bound method NoMask.call of <deepctr.layers.utils.NoMask object at 0x000000002EC99E88>> could not be transformed and will be executed as-is. Please report this to the AutgoGraph team. When filing the bug, set the verbosity to 10 (on Linux, `export AUTOGRAPH_VERBOSITY=10`) and attach the full output. Cause: converting <bound method NoMask.call of <deepctr.layers.utils.NoMask object at 0x000000002EC99E88>>: AssertionError: Bad argument number for Name: 3, expecting 4\n",
      "WARNING:tensorflow:Entity <bound method NoMask.call of <deepctr.layers.utils.NoMask object at 0x000000002EC99E88>> could not be transformed and will be executed as-is. Please report this to the AutgoGraph team. When filing the bug, set the verbosity to 10 (on Linux, `export AUTOGRAPH_VERBOSITY=10`) and attach the full output. Cause: converting <bound method NoMask.call of <deepctr.layers.utils.NoMask object at 0x000000002EC99E88>>: AssertionError: Bad argument number for Name: 3, expecting 4\n",
      "WARNING: Entity <bound method NoMask.call of <deepctr.layers.utils.NoMask object at 0x000000002EC99E88>> could not be transformed and will be executed as-is. Please report this to the AutgoGraph team. When filing the bug, set the verbosity to 10 (on Linux, `export AUTOGRAPH_VERBOSITY=10`) and attach the full output. Cause: converting <bound method NoMask.call of <deepctr.layers.utils.NoMask object at 0x000000002EC99E88>>: AssertionError: Bad argument number for Name: 3, expecting 4\n",
      "WARNING:tensorflow:Entity <bound method FM.call of <deepctr.layers.interaction.FM object at 0x000000002ECAA488>> could not be transformed and will be executed as-is. Please report this to the AutgoGraph team. When filing the bug, set the verbosity to 10 (on Linux, `export AUTOGRAPH_VERBOSITY=10`) and attach the full output. Cause: converting <bound method FM.call of <deepctr.layers.interaction.FM object at 0x000000002ECAA488>>: AssertionError: Bad argument number for Name: 3, expecting 4\n",
      "WARNING: Entity <bound method FM.call of <deepctr.layers.interaction.FM object at 0x000000002ECAA488>> could not be transformed and will be executed as-is. Please report this to the AutgoGraph team. When filing the bug, set the verbosity to 10 (on Linux, `export AUTOGRAPH_VERBOSITY=10`) and attach the full output. Cause: converting <bound method FM.call of <deepctr.layers.interaction.FM object at 0x000000002ECAA488>>: AssertionError: Bad argument number for Name: 3, expecting 4\n",
      "WARNING:tensorflow:Entity <bound method Add.call of <deepctr.layers.utils.Add object at 0x000000001CBA6288>> could not be transformed and will be executed as-is. Please report this to the AutgoGraph team. When filing the bug, set the verbosity to 10 (on Linux, `export AUTOGRAPH_VERBOSITY=10`) and attach the full output. Cause: converting <bound method Add.call of <deepctr.layers.utils.Add object at 0x000000001CBA6288>>: AttributeError: module 'gast' has no attribute 'Index'\n",
      "WARNING: Entity <bound method Add.call of <deepctr.layers.utils.Add object at 0x000000001CBA6288>> could not be transformed and will be executed as-is. Please report this to the AutgoGraph team. When filing the bug, set the verbosity to 10 (on Linux, `export AUTOGRAPH_VERBOSITY=10`) and attach the full output. Cause: converting <bound method Add.call of <deepctr.layers.utils.Add object at 0x000000001CBA6288>>: AttributeError: module 'gast' has no attribute 'Index'\n",
      "WARNING:tensorflow:Entity <bound method NoMask.call of <deepctr.layers.utils.NoMask object at 0x000000002EDA45C8>> could not be transformed and will be executed as-is. Please report this to the AutgoGraph team. When filing the bug, set the verbosity to 10 (on Linux, `export AUTOGRAPH_VERBOSITY=10`) and attach the full output. Cause: converting <bound method NoMask.call of <deepctr.layers.utils.NoMask object at 0x000000002EDA45C8>>: AssertionError: Bad argument number for Name: 3, expecting 4\n",
      "WARNING: Entity <bound method NoMask.call of <deepctr.layers.utils.NoMask object at 0x000000002EDA45C8>> could not be transformed and will be executed as-is. Please report this to the AutgoGraph team. When filing the bug, set the verbosity to 10 (on Linux, `export AUTOGRAPH_VERBOSITY=10`) and attach the full output. Cause: converting <bound method NoMask.call of <deepctr.layers.utils.NoMask object at 0x000000002EDA45C8>>: AssertionError: Bad argument number for Name: 3, expecting 4\n",
      "WARNING:tensorflow:Entity <bound method NoMask.call of <deepctr.layers.utils.NoMask object at 0x000000002EDA45C8>> could not be transformed and will be executed as-is. Please report this to the AutgoGraph team. When filing the bug, set the verbosity to 10 (on Linux, `export AUTOGRAPH_VERBOSITY=10`) and attach the full output. Cause: converting <bound method NoMask.call of <deepctr.layers.utils.NoMask object at 0x000000002EDA45C8>>: AssertionError: Bad argument number for Name: 3, expecting 4\n"
     ]
    },
    {
     "name": "stdout",
     "output_type": "stream",
     "text": [
      "WARNING: Entity <bound method NoMask.call of <deepctr.layers.utils.NoMask object at 0x000000002EDA45C8>> could not be transformed and will be executed as-is. Please report this to the AutgoGraph team. When filing the bug, set the verbosity to 10 (on Linux, `export AUTOGRAPH_VERBOSITY=10`) and attach the full output. Cause: converting <bound method NoMask.call of <deepctr.layers.utils.NoMask object at 0x000000002EDA45C8>>: AssertionError: Bad argument number for Name: 3, expecting 4\n",
      "WARNING:tensorflow:Entity <bound method NoMask.call of <deepctr.layers.utils.NoMask object at 0x000000002EDA45C8>> could not be transformed and will be executed as-is. Please report this to the AutgoGraph team. When filing the bug, set the verbosity to 10 (on Linux, `export AUTOGRAPH_VERBOSITY=10`) and attach the full output. Cause: converting <bound method NoMask.call of <deepctr.layers.utils.NoMask object at 0x000000002EDA45C8>>: AssertionError: Bad argument number for Name: 3, expecting 4\n",
      "WARNING: Entity <bound method NoMask.call of <deepctr.layers.utils.NoMask object at 0x000000002EDA45C8>> could not be transformed and will be executed as-is. Please report this to the AutgoGraph team. When filing the bug, set the verbosity to 10 (on Linux, `export AUTOGRAPH_VERBOSITY=10`) and attach the full output. Cause: converting <bound method NoMask.call of <deepctr.layers.utils.NoMask object at 0x000000002EDA45C8>>: AssertionError: Bad argument number for Name: 3, expecting 4\n",
      "WARNING:tensorflow:Entity <bound method NoMask.call of <deepctr.layers.utils.NoMask object at 0x000000002EDA45C8>> could not be transformed and will be executed as-is. Please report this to the AutgoGraph team. When filing the bug, set the verbosity to 10 (on Linux, `export AUTOGRAPH_VERBOSITY=10`) and attach the full output. Cause: converting <bound method NoMask.call of <deepctr.layers.utils.NoMask object at 0x000000002EDA45C8>>: AssertionError: Bad argument number for Name: 3, expecting 4\n",
      "WARNING: Entity <bound method NoMask.call of <deepctr.layers.utils.NoMask object at 0x000000002EDA45C8>> could not be transformed and will be executed as-is. Please report this to the AutgoGraph team. When filing the bug, set the verbosity to 10 (on Linux, `export AUTOGRAPH_VERBOSITY=10`) and attach the full output. Cause: converting <bound method NoMask.call of <deepctr.layers.utils.NoMask object at 0x000000002EDA45C8>>: AssertionError: Bad argument number for Name: 3, expecting 4\n",
      "WARNING:tensorflow:Entity <bound method NoMask.call of <deepctr.layers.utils.NoMask object at 0x000000002EDA45C8>> could not be transformed and will be executed as-is. Please report this to the AutgoGraph team. When filing the bug, set the verbosity to 10 (on Linux, `export AUTOGRAPH_VERBOSITY=10`) and attach the full output. Cause: converting <bound method NoMask.call of <deepctr.layers.utils.NoMask object at 0x000000002EDA45C8>>: AssertionError: Bad argument number for Name: 3, expecting 4\n",
      "WARNING: Entity <bound method NoMask.call of <deepctr.layers.utils.NoMask object at 0x000000002EDA45C8>> could not be transformed and will be executed as-is. Please report this to the AutgoGraph team. When filing the bug, set the verbosity to 10 (on Linux, `export AUTOGRAPH_VERBOSITY=10`) and attach the full output. Cause: converting <bound method NoMask.call of <deepctr.layers.utils.NoMask object at 0x000000002EDA45C8>>: AssertionError: Bad argument number for Name: 3, expecting 4\n",
      "WARNING:tensorflow:Entity <bound method NoMask.call of <deepctr.layers.utils.NoMask object at 0x000000002EDA45C8>> could not be transformed and will be executed as-is. Please report this to the AutgoGraph team. When filing the bug, set the verbosity to 10 (on Linux, `export AUTOGRAPH_VERBOSITY=10`) and attach the full output. Cause: converting <bound method NoMask.call of <deepctr.layers.utils.NoMask object at 0x000000002EDA45C8>>: AssertionError: Bad argument number for Name: 3, expecting 4\n",
      "WARNING: Entity <bound method NoMask.call of <deepctr.layers.utils.NoMask object at 0x000000002EDA45C8>> could not be transformed and will be executed as-is. Please report this to the AutgoGraph team. When filing the bug, set the verbosity to 10 (on Linux, `export AUTOGRAPH_VERBOSITY=10`) and attach the full output. Cause: converting <bound method NoMask.call of <deepctr.layers.utils.NoMask object at 0x000000002EDA45C8>>: AssertionError: Bad argument number for Name: 3, expecting 4\n",
      "WARNING:tensorflow:Entity <bound method DNN.call of <deepctr.layers.core.DNN object at 0x000000002ECC7E88>> could not be transformed and will be executed as-is. Please report this to the AutgoGraph team. When filing the bug, set the verbosity to 10 (on Linux, `export AUTOGRAPH_VERBOSITY=10`) and attach the full output. Cause: converting <bound method DNN.call of <deepctr.layers.core.DNN object at 0x000000002ECC7E88>>: AttributeError: module 'gast' has no attribute 'Index'\n",
      "WARNING: Entity <bound method DNN.call of <deepctr.layers.core.DNN object at 0x000000002ECC7E88>> could not be transformed and will be executed as-is. Please report this to the AutgoGraph team. When filing the bug, set the verbosity to 10 (on Linux, `export AUTOGRAPH_VERBOSITY=10`) and attach the full output. Cause: converting <bound method DNN.call of <deepctr.layers.core.DNN object at 0x000000002ECC7E88>>: AttributeError: module 'gast' has no attribute 'Index'\n",
      "WARNING:tensorflow:Entity <bound method Add.call of <deepctr.layers.utils.Add object at 0x000000002EE57508>> could not be transformed and will be executed as-is. Please report this to the AutgoGraph team. When filing the bug, set the verbosity to 10 (on Linux, `export AUTOGRAPH_VERBOSITY=10`) and attach the full output. Cause: converting <bound method Add.call of <deepctr.layers.utils.Add object at 0x000000002EE57508>>: AttributeError: module 'gast' has no attribute 'Index'\n",
      "WARNING: Entity <bound method Add.call of <deepctr.layers.utils.Add object at 0x000000002EE57508>> could not be transformed and will be executed as-is. Please report this to the AutgoGraph team. When filing the bug, set the verbosity to 10 (on Linux, `export AUTOGRAPH_VERBOSITY=10`) and attach the full output. Cause: converting <bound method Add.call of <deepctr.layers.utils.Add object at 0x000000002EE57508>>: AttributeError: module 'gast' has no attribute 'Index'\n",
      "WARNING:tensorflow:Entity <bound method PredictionLayer.call of <deepctr.layers.core.PredictionLayer object at 0x000000002EDB7688>> could not be transformed and will be executed as-is. Please report this to the AutgoGraph team. When filing the bug, set the verbosity to 10 (on Linux, `export AUTOGRAPH_VERBOSITY=10`) and attach the full output. Cause: converting <bound method PredictionLayer.call of <deepctr.layers.core.PredictionLayer object at 0x000000002EDB7688>>: AssertionError: Bad argument number for Name: 3, expecting 4\n",
      "WARNING: Entity <bound method PredictionLayer.call of <deepctr.layers.core.PredictionLayer object at 0x000000002EDB7688>> could not be transformed and will be executed as-is. Please report this to the AutgoGraph team. When filing the bug, set the verbosity to 10 (on Linux, `export AUTOGRAPH_VERBOSITY=10`) and attach the full output. Cause: converting <bound method PredictionLayer.call of <deepctr.layers.core.PredictionLayer object at 0x000000002EDB7688>>: AssertionError: Bad argument number for Name: 3, expecting 4\n",
      "Train on 128 samples, validate on 32 samples\n",
      "128/128 [==============================] - 2s 16ms/sample - loss: 14.0703 - mean_squared_error: 14.0703 - val_loss: 16.2063 - val_mean_squared_error: 16.2063\n"
     ]
    }
   ],
   "source": [
    "# 使用DeepFM进行训练\n",
    "model = DeepFM(linear_feature_columns, dnn_feature_columns, task='regression')\n",
    "model.compile(\"adam\", \"mse\", metrics=['mse'], )\n",
    "history = model.fit(train_model_input, train[target].values, batch_size=256, epochs=1, verbose=True, validation_split=0.2 )"
   ]
  },
  {
   "cell_type": "code",
   "execution_count": 34,
   "metadata": {},
   "outputs": [
    {
     "name": "stdout",
     "output_type": "stream",
     "text": [
      "test RMSE 3.6968229603268803\n"
     ]
    }
   ],
   "source": [
    "# 使用DeepFM进行预测\n",
    "pred_ans = model.predict(test_model_input, batch_size=256)\n",
    "# 输出RMSE或MSE\n",
    "mse = round(mean_squared_error(test[target].values, pred_ans), 4)\n",
    "rmse = mse ** 0.5\n",
    "print(\"test RMSE\", rmse)"
   ]
  },
  {
   "cell_type": "code",
   "execution_count": null,
   "metadata": {},
   "outputs": [],
   "source": []
  }
 ],
 "metadata": {
  "kernelspec": {
   "display_name": "Python 3",
   "language": "python",
   "name": "python3"
  },
  "language_info": {
   "codemirror_mode": {
    "name": "ipython",
    "version": 3
   },
   "file_extension": ".py",
   "mimetype": "text/x-python",
   "name": "python",
   "nbconvert_exporter": "python",
   "pygments_lexer": "ipython3",
   "version": "3.7.8"
  }
 },
 "nbformat": 4,
 "nbformat_minor": 4
}
