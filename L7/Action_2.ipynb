{
 "cells": [
  {
   "cell_type": "code",
   "execution_count": 1,
   "metadata": {},
   "outputs": [],
   "source": [
    "import pandas as pd\n",
    "import numpy as np\n",
    "import matplotlib.pyplot as plt\n",
    "from collections import defaultdict\n",
    "from datetime import datetime,timedelta"
   ]
  },
  {
   "cell_type": "code",
   "execution_count": 2,
   "metadata": {},
   "outputs": [
    {
     "name": "stdout",
     "output_type": "stream",
     "text": [
      "    user_id    item_id  behavior_type user_geohash  item_category  \\\n",
      "0  10001082  285259775              1      97lk14c           4076   \n",
      "1  10001082    4368907              1          NaN           5503   \n",
      "2  10001082    4368907              1          NaN           5503   \n",
      "3  10001082   53616768              1          NaN           9762   \n",
      "4  10001082  151466952              1          NaN           5232   \n",
      "\n",
      "            time  \n",
      "0  2014-12-08 18  \n",
      "1  2014-12-12 12  \n",
      "2  2014-12-12 12  \n",
      "3  2014-12-02 15  \n",
      "4  2014-12-12 11  \n"
     ]
    }
   ],
   "source": [
    "#数据加载\n",
    "data=pd.read_csv('./tianchi_fresh_comp_train_user.csv')\n",
    "print(data.head())"
   ]
  },
  {
   "cell_type": "code",
   "execution_count": 4,
   "metadata": {},
   "outputs": [
    {
     "name": "stdout",
     "output_type": "stream",
     "text": [
      "CVR=0.9985776926023916%\n"
     ]
    }
   ],
   "source": [
    "#CVR\n",
    "count_all=0\n",
    "count_4=0\n",
    "count_user=data['behavior_type'].value_counts()\n",
    "count_all=count_user[1]+count_user[2]+count_user[3]+count_user[4]\n",
    "count_4+=count_user[4]\n",
    "cvr=count_4/count_all\n",
    "print('CVR={}%'.format(cvr*100))"
   ]
  },
  {
   "cell_type": "code",
   "execution_count": 6,
   "metadata": {},
   "outputs": [],
   "source": [
    "def show_count_day(df,date_str):\n",
    "    df['time']=pd.to_datetime(df['time'])\n",
    "    df.index=df['time']\n",
    "    #print(df.head())\n",
    "    count_day=defaultdict(int)\n",
    "    #str1='2014-11-17'\n",
    "    temp_date=datetime.strptime(date_str,'%Y-%m-%d')\n",
    "    delta=timedelta(days=1)\n",
    "    #print(temp_date)\n",
    "    for i in range(31):\n",
    "        temp_date=temp_date+delta\n",
    "        temp_str=temp_date.strftime('%Y-%m-%d')#将时间转化为字符串类型\n",
    "        count_day[temp_str]+=df.loc[temp_str].shape[0]\n",
    "    df_count_day=pd.DataFrame.from_dict(count_day,orient='index',columns=['count'])\n",
    "    df_count_day['count'].plot(kind='bar')\n",
    "    plt.legend(loc='best')\n",
    "    plt.grid(True)"
   ]
  },
  {
   "cell_type": "code",
   "execution_count": 7,
   "metadata": {},
   "outputs": [
    {
     "data": {
      "image/png": "[encoded data removed]",
      "text/plain": [
       "<Figure size 432x288 with 1 Axes>"
      ]
     },
     "metadata": {
      "needs_background": "light"
     },
     "output_type": "display_data"
    }
   ],
   "source": [
    "show_count_day(data,'2014-11-17')"
   ]
  },
  {
   "cell_type": "code",
   "execution_count": 10,
   "metadata": {},
   "outputs": [],
   "source": [
    "#数据加载\n",
    "df_item=pd.read_csv('./tianchi_fresh_comp_train_item.csv')\n",
    "#data=pd.merge(data.reset_index(),df_item,on=['item_id']).set_index('time')\n",
    "#print(data.shape)\n",
    "#print(data.head())"
   ]
  },
  {
   "cell_type": "code",
   "execution_count": 24,
   "metadata": {},
   "outputs": [],
   "source": [
    "def show_count_hour(date1,df):\n",
    "    count_hour={}\n",
    "    for i in range(24):\n",
    "        time_str=date1+' %02.d'%i\n",
    "        count_hour[time_str]=[0,0,0,0]\n",
    "        temp=df.loc[time_str]['behavior_type'].value_counts()\n",
    "        for j in range(len(temp)):\n",
    "            count_hour[time_str][temp.index[j]-1]+=temp[temp.index[j]]\n",
    "    print(count_hour)\n",
    "    df_count_hour=pd.DataFrame.from_dict(count_hour,orient='index')\n",
    "    df_count_hour.plot(kind='bar')\n",
    "    plt.legend(loc='best')\n",
    "    plt.grid(True)"
   ]
  },
  {
   "cell_type": "code",
   "execution_count": 25,
   "metadata": {},
   "outputs": [
    {
     "name": "stdout",
     "output_type": "stream",
     "text": [
      "{'2014-12-12 00': [87638, 1180, 4705, 4407], '2014-12-12 01': [38217, 509, 1487, 865], '2014-12-12 02': [21510, 365, 751, 491], '2014-12-12 03': [13100, 194, 442, 243], '2014-12-12 04': [9901, 140, 440, 222], '2014-12-12 05': [11494, 119, 485, 259], '2014-12-12 06': [23482, 295, 797, 545], '2014-12-12 07': [37956, 492, 1319, 881], '2014-12-12 08': [50923, 804, 1910, 1363], '2014-12-12 09': [53342, 697, 2223, 1659], '2014-12-12 10': [60806, 917, 2441, 1666], '2014-12-12 11': [54636, 864, 2098, 1603], '2014-12-12 12': [54835, 983, 2008, 1289], '2014-12-12 13': [60916, 1116, 2348, 1507], '2014-12-12 14': [53294, 991, 2022, 1163], '2014-12-12 15': [54780, 924, 2023, 1228], '2014-12-12 16': [53353, 933, 1815, 1098], '2014-12-12 17': [43885, 938, 1600, 835], '2014-12-12 18': [48683, 916, 1718, 987], '2014-12-12 19': [60983, 920, 2064, 1127], '2014-12-12 20': [79216, 1388, 2397, 1327], '2014-12-12 21': [97226, 1410, 3212, 1620], '2014-12-12 22': [94300, 1506, 3442, 1728], '2014-12-12 23': [82727, 1298, 3894, 2124]}\n"
     ]
    },
    {
     "data": {
      "image/png": "[encoded data removed]",
      "text/plain": [
       "<Figure size 432x288 with 1 Axes>"
      ]
     },
     "metadata": {
      "needs_background": "light"
     },
     "output_type": "display_data"
    }
   ],
   "source": [
    "show_count_hour('2014-12-12',data)"
   ]
  },
  {
   "cell_type": "code",
   "execution_count": null,
   "metadata": {},
   "outputs": [],
   "source": []
  }
 ],
 "metadata": {
  "kernelspec": {
   "display_name": "Python 3",
   "language": "python",
   "name": "python3"
  },
  "language_info": {
   "codemirror_mode": {
    "name": "ipython",
    "version": 3
   },
   "file_extension": ".py",
   "mimetype": "text/x-python",
   "name": "python",
   "nbconvert_exporter": "python",
   "pygments_lexer": "ipython3",
   "version": "3.7.8"
  }
 },
 "nbformat": 4,
 "nbformat_minor": 4
}
