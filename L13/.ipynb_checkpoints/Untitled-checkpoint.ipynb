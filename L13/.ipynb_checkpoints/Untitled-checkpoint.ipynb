{
 "cells": [
  {
   "cell_type": "code",
   "execution_count": 1,
   "metadata": {},
   "outputs": [],
   "source": [
    "import pandas as pd\n",
    "import numpy as np"
   ]
  },
  {
   "cell_type": "code",
   "execution_count": 61,
   "metadata": {},
   "outputs": [],
   "source": [
    "pre_data=pd.read_excel('jobs_4k.xls', index_col=0) "
   ]
  },
  {
   "cell_type": "code",
   "execution_count": 62,
   "metadata": {},
   "outputs": [
    {
     "name": "stdout",
     "output_type": "stream",
     "text": [
      "             positionName district stationname jobNature  \\\n",
      "0                  财务产品经理      海淀区          上地        全职   \n",
      "1                    产品专家      海淀区         中关村        全职   \n",
      "2                    产品总监      海淀区         中关村        全职   \n",
      "3     联盟广告产品运营专家/专员-【商业化】      海淀区          东单        全职   \n",
      "4                    产品总监      海淀区         中关村        全职   \n",
      "...                   ...      ...         ...       ...   \n",
      "4506                ui设计师      朝阳区        北苑路北        全职   \n",
      "4507              高级ui设计师      朝阳区        None        全职   \n",
      "4508              高级UI设计师      海淀区         西小口        全职   \n",
      "4509              高级UI设计师      海淀区         西小口        全职   \n",
      "4510              游戏UI设计师      东城区         灯市口        全职   \n",
      "\n",
      "                      companyLabelList industryField   salary companySize  \\\n",
      "0     ['节日礼物', '年底双薪', '定期体检', '七险一金']    物流丨运输,软件开发  10k-15k   500-2000人   \n",
      "1     ['五险一金', '弹性工作', '带薪年假', '免费两餐']          企业服务  30k-50k   500-2000人   \n",
      "2     ['五险一金', '弹性工作', '带薪年假', '免费两餐']          企业服务  40k-75k   500-2000人   \n",
      "3     ['股票期权', '弹性工作', '定期体检', '岗位晋升']         文娱丨内容  20k-40k     2000人以上   \n",
      "4     ['领导好', '五险一金', '领军企业', '脑力密集型']      移动互联网,社交  20k-38k      15-50人   \n",
      "...                                ...           ...      ...         ...   \n",
      "4506  ['节日礼物', '年底双薪', '绩效奖金', '岗位晋升']         移动互联网  15k-25k    150-500人   \n",
      "4507                                []            教育  20k-30k       少于15人   \n",
      "4508                                []         移动互联网  25k-30k     50-150人   \n",
      "4509                                []         移动互联网  20k-30k     50-150人   \n",
      "4510  ['带薪年假', '年终分红', '弹性工作', '年度旅游']            游戏  15k-25k      15-50人   \n",
      "\n",
      "                         skillLables           createTime  ...  \\\n",
      "0              ['产品设计', '后台', 'B2B']  2020-05-15 15:10:02  ...   \n",
      "1                                 []  2020-05-16 08:23:06  ...   \n",
      "2                                 []  2020-05-16 08:23:06  ...   \n",
      "3                           ['产品运营']  2020-05-15 19:35:13  ...   \n",
      "4     ['电商', '社交电商', '产品策划', '需求分析']  2020-05-16 09:15:16  ...   \n",
      "...                              ...                  ...  ...   \n",
      "4506                    ['视觉', 'UI']  2020-05-12 13:02:02  ...   \n",
      "4507              ['UE', 'UI', 'UX']  2020-05-13 11:46:02  ...   \n",
      "4508              ['UI', 'UE', '视觉']  2020-05-12 16:04:01  ...   \n",
      "4509              ['UI', 'UE', '视觉']  2020-05-12 16:04:01  ...   \n",
      "4510    ['UI', 'UE', '游戏界面', '界面设计']  2020-05-11 16:32:08  ...   \n",
      "\n",
      "                                                 detail type skill_0 skill_1  \\\n",
      "0     岗位职责1、负责财务相关业务解决方案架构并主导与产品、技术等交付团队的对接，能够从完整的财务...  产品线     NaN     NaN   \n",
      "1       负责具体产品线的工作，完成用户价值。解决具体产品线的问题。产品线有策略、运营、基础产品流程等线  产品线     NaN     NaN   \n",
      "2     做出好产品，服务用户，实现用户价值。B端产品、C端产品、商业策略产品、运营产品等岗位，都有总...  产品线     NaN     NaN   \n",
      "3     职位描述：1、负责快手联盟竞价广告的落地和运营，提升产品使用率和覆盖率； 2、深度分析广告预...  产品线     NaN     NaN   \n",
      "4     工作职责:1. 整体负责公司的产品功能规划、优化升级、实施工作； 2. 带领产品团队完成产品...  产品线     NaN     NaN   \n",
      "...                                                 ...  ...     ...     ...   \n",
      "4506  岗位职责：1、游戏界面设计和排版；2、游戏的icon, logo, 游戏宣传图等设计；3、根...  设计线     NaN     NaN   \n",
      "4507  职位描述：1）负责多端产品设计（需要具备交互经验）；2）负责相关产品用户体验设计工作，具备跨...  设计线     NaN     NaN   \n",
      "4508  注：此职位为了节省双方时间，请务必附带作品链接，没有链接不予以查看，谢谢配合！岗位职责：1、...  设计线     NaN     NaN   \n",
      "4509  注：此职位为了节省双方时间，请务必附带作品链接，没有链接不予以查看，谢谢配合！岗位职责：1、...  设计线     NaN     NaN   \n",
      "4510  职位诱惑：海外平台, 发展好职位描述：岗位职责：1、根据要求从事游戏产品的UI设计工作，负责...  设计线     NaN     NaN   \n",
      "\n",
      "     skill_2 skill_3 com_0  com_1  com_2  com_3  \n",
      "0        NaN     NaN   NaN    NaN    NaN    NaN  \n",
      "1        NaN     NaN   NaN    NaN    NaN    NaN  \n",
      "2        NaN     NaN   NaN    NaN    NaN    NaN  \n",
      "3        NaN     NaN   NaN    NaN    NaN    NaN  \n",
      "4        NaN     NaN   NaN    NaN    NaN    NaN  \n",
      "...      ...     ...   ...    ...    ...    ...  \n",
      "4506     NaN     NaN   NaN    NaN    NaN    NaN  \n",
      "4507     NaN     NaN   NaN    NaN    NaN    NaN  \n",
      "4508     NaN     NaN   NaN    NaN    NaN    NaN  \n",
      "4509     NaN     NaN   NaN    NaN    NaN    NaN  \n",
      "4510     NaN     NaN   NaN    NaN    NaN    NaN  \n",
      "\n",
      "[4511 rows x 25 columns]\n"
     ]
    }
   ],
   "source": [
    "for i in range(4):\n",
    "    data['skill_'+str(i)]=np.NaN\n",
    "for i in range(4):\n",
    "    data['com_'+str(i)]=np.NaN\n",
    "data.reset_index(inplace=True,drop=True)\n",
    "print(data)"
   ]
  },
  {
   "cell_type": "code",
   "execution_count": 66,
   "metadata": {},
   "outputs": [],
   "source": [
    "def skill_data_split():\n",
    "    for i in range(len(data)):\n",
    "        skill_data=data.iloc[i]['skillLables']\n",
    "        if skill_data=='[]':\n",
    "            continue\n",
    "        else:\n",
    "            skill_data=skill_data.replace('[','').replace(']','').split(',')\n",
    "            for j in range(len(skill_data)):\n",
    "                data.loc[i,'skill_'+str(j)] =eval(skill_data[j])"
   ]
  },
  {
   "cell_type": "code",
   "execution_count": 67,
   "metadata": {},
   "outputs": [],
   "source": [
    "def company_data_split():\n",
    "    for i in range(len(data)):\n",
    "        company_data=data.iloc[i]['companyLabelList']\n",
    "        if company_data=='[]':\n",
    "            continue\n",
    "        else:\n",
    "        #print(company_data)\n",
    "            company_data=company_data.replace('[','').replace(']','').split(',')\n",
    "            for j in range(len(company_data)):\n",
    "                data.loc[i,'com_'+str(j)] =eval(company_data[j])"
   ]
  },
  {
   "cell_type": "code",
   "execution_count": 68,
   "metadata": {},
   "outputs": [
    {
     "name": "stdout",
     "output_type": "stream",
     "text": [
      "             positionName district stationname jobNature industryField  \\\n",
      "0                  财务产品经理      海淀区          上地        全职    物流丨运输,软件开发   \n",
      "1                    产品专家      海淀区         中关村        全职          企业服务   \n",
      "2                    产品总监      海淀区         中关村        全职          企业服务   \n",
      "3     联盟广告产品运营专家/专员-【商业化】      海淀区          东单        全职         文娱丨内容   \n",
      "4                    产品总监      海淀区         中关村        全职      移动互联网,社交   \n",
      "...                   ...      ...         ...       ...           ...   \n",
      "4506                ui设计师      朝阳区        北苑路北        全职         移动互联网   \n",
      "4507              高级ui设计师      朝阳区        None        全职            教育   \n",
      "4508              高级UI设计师      海淀区         西小口        全职         移动互联网   \n",
      "4509              高级UI设计师      海淀区         西小口        全职         移动互联网   \n",
      "4510              游戏UI设计师      东城区         灯市口        全职            游戏   \n",
      "\n",
      "       salary companySize           createTime companyFullName workYear  ...  \\\n",
      "0     10k-15k   500-2000人  2020-05-15 15:10:02  北京福佑多多信息技术有限公司     1-3年  ...   \n",
      "1     30k-50k   500-2000人  2020-05-16 08:23:06    北京拉勾网络技术有限公司    5-10年  ...   \n",
      "2     40k-75k   500-2000人  2020-05-16 08:23:06    北京拉勾网络技术有限公司    5-10年  ...   \n",
      "3     20k-40k     2000人以上  2020-05-15 19:35:13  北京达佳互联信息技术有限公司    5-10年  ...   \n",
      "4     20k-38k      15-50人  2020-05-16 09:15:16      北京领主科技有限公司    5-10年  ...   \n",
      "...       ...         ...                  ...             ...      ...  ...   \n",
      "4506  15k-25k    150-500人  2020-05-12 13:02:02      北京博乐科技有限公司       不限  ...   \n",
      "4507  20k-30k       少于15人  2020-05-13 11:46:02      上海且曼教育科技中心     3-5年  ...   \n",
      "4508  25k-30k     50-150人  2020-05-12 16:04:01    北京九号发现科技有限公司    5-10年  ...   \n",
      "4509  20k-30k     50-150人  2020-05-12 16:04:01    北京九号发现科技有限公司    5-10年  ...   \n",
      "4510  15k-25k      15-50人  2020-05-11 16:32:08    北京渊龙互娱科技有限公司    5-10年  ...   \n",
      "\n",
      "     type skill_0 skill_1 skill_2 skill_3 com_0 com_1 com_2  com_3 skill_4  \n",
      "0     产品线    产品设计      后台     B2B     NaN  节日礼物  年底双薪  定期体检   七险一金     NaN  \n",
      "1     产品线     NaN     NaN     NaN     NaN  五险一金  弹性工作  带薪年假   免费两餐     NaN  \n",
      "2     产品线     NaN     NaN     NaN     NaN  五险一金  弹性工作  带薪年假   免费两餐     NaN  \n",
      "3     产品线    产品运营     NaN     NaN     NaN  股票期权  弹性工作  定期体检   岗位晋升     NaN  \n",
      "4     产品线      电商    社交电商    产品策划    需求分析   领导好  五险一金  领军企业  脑力密集型     NaN  \n",
      "...   ...     ...     ...     ...     ...   ...   ...   ...    ...     ...  \n",
      "4506  设计线      视觉      UI     NaN     NaN  节日礼物  年底双薪  绩效奖金   岗位晋升     NaN  \n",
      "4507  设计线      UE      UI      UX     NaN   NaN   NaN   NaN    NaN     NaN  \n",
      "4508  设计线      UI      UE      视觉     NaN   NaN   NaN   NaN    NaN     NaN  \n",
      "4509  设计线      UI      UE      视觉     NaN   NaN   NaN   NaN    NaN     NaN  \n",
      "4510  设计线      UI      UE    游戏界面    界面设计  带薪年假  年终分红  弹性工作   年度旅游     NaN  \n",
      "\n",
      "[4511 rows x 24 columns]\n"
     ]
    }
   ],
   "source": [
    "skill_data_split()\n",
    "company_data_split()\n",
    "#去掉没用的列：\n",
    "data=data.drop(['positionName','district','stationname','','','','','','','skillLables','companyLabelList'], axis=1)\n",
    "print(data)"
   ]
  },
  {
   "cell_type": "code",
   "execution_count": 78,
   "metadata": {},
   "outputs": [
    {
     "name": "stdout",
     "output_type": "stream",
     "text": [
      "['10k-15k' '30k-50k' '40k-75k' '20k-40k' '20k-38k' '40k-60k' '40k-70k'\n",
      " '25k-40k' '40k-80k' '20k-35k' '18k-36k' '20k-30k' '15k-30k' '15k-25k'\n",
      " '6k-12k' '17k-30k' '20k-25k' '30k-40k' '30k-60k' '25k-45k' '25k-50k'\n",
      " '9k-12k' '45k-75k' '8k-16k' '40k-65k' '7k-14k' '35k-55k' '6k-10k'\n",
      " '35k-70k' '1k-2k' '13k-19k' '16k-32k' '25k-30k' '10k-20k' '35k-50k'\n",
      " '30k-55k' '50k-80k' '30k-45k' '13k-25k' '35k-45k' '17k-34k' '25k-35k'\n",
      " '6k-8k' '15k-23k' '22k-35k' '9k-16k' '15k-20k' '50k-70k' '15k-29k'\n",
      " '30k-35k' '8k-15k' '25k-36k' '3k-5k' '12k-22k' '18k-25k' '7k-12k'\n",
      " '16k-30k' '12k-17k' '50k-100k' '12k-20k' '18k-35k' '23k-45k' '40k-50k'\n",
      " '26k-50k' '10k-18k' '18k-30k' '15k-18k' '12k-18k' '11k-20k' '11k-14k'\n",
      " '13k-22k' '22k-30k' '6k-9k' '17k-25k' '20k-26k' '12k-24k' '28k-45k'\n",
      " '7k-10k' '18k-28k' '8k-12k' '13k-26k' '11k-15k' '35k-65k' '9k-18k'\n",
      " '14k-23k' '20k-29k' '15k-28k' '22k-38k' '14k-28k' '28k-55k' '20k-27k'\n",
      " '25k-41k' '22k-40k' '9k-11k' '14k-18k' '13k-20k' '20k-28k' '5k-6k'\n",
      " '11k-18k' '8k-13k' '11k-19k' '10k-16k' '28k-50k' '26k-33k' '4k-5k'\n",
      " '22k-25k' '13k-17k' '14k-22k' '12k-16k' '16k-22k' '12k-13k' '16k-21k'\n",
      " '13k-18k' '25k-47k' '23k-40k' '14k-16k' '10k-19k' '15K-25K' '12k-15k'\n",
      " '15k-24k' '14k-20k' '7k-13k' '15k-22k' '33k-40k' '14k-15k' '28k-40k'\n",
      " '18k-26k' '10k-11k' '15k-17k' '10k-14k' '11k-13k' '8k-10k' '2k-4k'\n",
      " '20k-36k' '14k-24k' '9k-15k' '8k-14k' '18k-23k' '10k-13k' '22k-28k'\n",
      " '23k-38k' '14k-26k' '14k-17k' '11k-12k' '18k-24k' '20k-31k' '10k-17k'\n",
      " '18k-32k' '16k-18k' '18k-33k' '9k-13k' '5k-8k' '9k-14k' '35k-40k'\n",
      " '10k-12k' '16k-25k' '9k-17k' '3k-6k' '7k-11k' '11k-16k' '12k-14k' '4k-6k'\n",
      " '11k-17k' '32k-60k' '35k-60k' '30k-38k' '7k-9k' '28k-56k' '18k-21k'\n",
      " '19k-27k' '8k-9k' '4k-8k' '23k-30k' '12k-21k' '20k-32k' '13k-16k'\n",
      " '16k-20k' '5k-7k' '6k-11k' '5k-10k' '14k-25k' '21k-39k' '18k-22k'\n",
      " '17k-26k' '32k-38k' '200k-250k' '7k-8k' '23k-46k' '17k-23k' '22k-32k'\n",
      " '11k-22k' '25k-38k' '30k-44k' '38k-55k' '3K-6K' '16k-26k' '12k-23k'\n",
      " '4k-7k' '3k-4k' '6k-7k' '27k-36k' '2k-3k' '18k-20k' '22k-43k' '24k-40k'\n",
      " '15k-16k' '45k-80k' '8k-11k' '27k-53k' '15k-26k' '7K-10K' '16k-23k'\n",
      " '21k-40k' '26k-32k' '13k-15k' '40k-48k' '21k-35k' '15k-27k']\n",
      "['产品设计' nan '产品运营' '电商' '用户研究' '在线教育产品' '目标管理' '企业软件' '产品策划' '需求分析' '数据分析'\n",
      " '游戏' '移动产品/APP' 'B2B' '部门管理' '战略管理' '商业产品' '创业' '领导力' '产品经理' 'SaaS' 'LBS'\n",
      " '人工智能' '用户增长' '交互设计' '业务流程管理' '金融' 'C端产品' 'B端产品' '呼叫中心' '项目管理' '视频' '数据'\n",
      " '后台产品' '后台' '社交/SNS' '内容产品' 'ERP' '社交电商' '旅游' '运营' '策略' 'UED' 'Visio'\n",
      " 'O2O' '游戏策划' '墨刀' 'APP产品' 'Axure' '前台产品' 'BI' '结构设计' '人力资源' '数据运营'\n",
      " 'MySQL' 'Hadoop' '智能硬件' 'SQL' '人事' '搜索' '数据处理' '后端' '服务器端' 'Java' '平台'\n",
      " '软件开发' '分布式' '图像处理' '游戏开发' '移动端' 'Python' 'docker' 'Linux/Unix' 'J2EE'\n",
      " 'GO' 'HTML/CSS' 'C' 'HTML5' '数据抓取' 'web前端' '单片机' 'SOA' '全栈' 'JS' 'C++'\n",
      " 'Scala' '运维' 'Golang' 'NLP' 'Javascript' '客户端' 'MFC' '中间件' '前端开发' 'Web前端'\n",
      " 'Angularjs' 'CSS' 'Vue' 'Hybird' 'HTML' 'bootstrap' 'React native' '算法'\n",
      " 'Node.js' 'webGL' '测试' 'IOS测试' '功能测试' 'Android测试' 'Loadrunner' 'Web测试'\n",
      " '接口测试' '性能测试' '测试开发' '自动化测试' '游戏测试' '产品测试' '网络安全' '自动化' '脚本' 'app测试'\n",
      " '软件测试' 'Server端测试' '安全' '白盒测试' '黑盒测试' '灰盒测试' '嵌入式软件测试' '测试管理' '安全测试'\n",
      " '数据库' 'QA' '监控' '运维管理' 'Linux' '系统架构' '技术管理' '实施' 'ETL' '架构师' '数据仓库' '网络'\n",
      " 'IT支持' 'DevOps' 'K8s' '运维开发' '.NET' 'DBA' '数据挖掘' '大数据运维' '应用运维' '配置管理'\n",
      " '行政' '系统运维' 'Zabbix' 'CDN' 'Docker' '桌面运维' 'Cisco' 'SAP' '系统安全运维' '自动化运维'\n",
      " 'IDC' '用户运营' 'Openstack' 'Shell' 'MongoDB' '云平台运维' 'Oracle' 'DB2' 'CI'\n",
      " '数据库运维' 'Windows' '项目实施' '爬虫' '数据架构' '深度学习' 'python爬虫' '机器学习' '推荐算法'\n",
      " '图像算法' 'Laravel' 'PHP' 'Yii' '高级技术管理' '移动开发' '交互' 'UI' 'UE' '移动交互' '视觉'\n",
      " '设计' '用户体验' '交互设计专家' '无线交互' 'Sketch' '界面设计' '游戏交互' '思维导图' '网页交互' '硬件交互'\n",
      " '美术设计' '美工' 'App设计' '2D' '平面设计' '网页' '创意' 'C4D' '原画' '插画' 'UI设计' '手游'\n",
      " '动画' '网页设计' '手绘' 'Q版' '合伙人' '视觉设计' '平面' 'PS' '中国风' '游戏界面' 'AE软件']\n"
     ]
    }
   ],
   "source": [
    "print(data['salary'].unique())\n",
    "print(data['skill_0'].unique())"
   ]
  },
  {
   "cell_type": "code",
   "execution_count": 79,
   "metadata": {},
   "outputs": [],
   "source": [
    "# 对薪资进行预处理\n",
    "def pre_salary(pre_data):\n",
    "    salarys = pre_data['salary'].values\n",
    "    salary_dic = {}\n",
    "    for salary in salarys:\n",
    "        # 根据'-'进行分割并去掉'k',分别将两端的值转换成整数\n",
    "        min_sa = int(salary.split('-')[0][:-1])\n",
    "        max_sa = int(salary.split('-')[1][:-1])\n",
    "        # 求中位数\n",
    "        median_sa = (min_sa + max_sa) / 2\n",
    "        # 判断其值并划分到指定范围\n",
    "        if median_sa < 5:\n",
    "            salary_dic[u'5k以下'] = salary_dic.get(u'5k以下', 0) + 1\n",
    "        elif median_sa >= 5 and median_sa < 10:\n",
    "            salary_dic[u'5k-10k'] = salary_dic.get(u'5k-10k', 0) + 1\n",
    "        elif median_sa >= 10 and median_sa < 20:\n",
    "            salary_dic[u'10k-20k'] = salary_dic.get(u'10k-20k', 0) + 1\n",
    "        elif median_sa >= 20 and median_sa < 30:\n",
    "            salary_dic[u'20k-30k'] = salary_dic.get(u'20k-30k', 0) + 1\n",
    "        elif median_sa >= 30 and median_sa < 40:\n",
    "            salary_dic[u'30k-40k'] = salary_dic.get(u'30k-40k', 0) + 1\n",
    "        else:\n",
    "            salary_dic[u'40k以上'] = salary_dic.get(u'40以上', 0) + 1\n",
    "    print(salary_dic)\n",
    "    return salary_dic"
   ]
  },
  {
   "cell_type": "code",
   "execution_count": 81,
   "metadata": {},
   "outputs": [
    {
     "name": "stdout",
     "output_type": "stream",
     "text": [
      "{'10k-20k': 1240, '40以上': 271, '30k-40k': 1062, '20k-30k': 1648, '5k-10k': 206, '5k以下': 84}\n"
     ]
    }
   ],
   "source": [
    "salary_data=pre_salary(data)"
   ]
  },
  {
   "cell_type": "code",
   "execution_count": null,
   "metadata": {},
   "outputs": [],
   "source": []
  }
 ],
 "metadata": {
  "kernelspec": {
   "display_name": "Python 3",
   "language": "python",
   "name": "python3"
  },
  "language_info": {
   "codemirror_mode": {
    "name": "ipython",
    "version": 3
   },
   "file_extension": ".py",
   "mimetype": "text/x-python",
   "name": "python",
   "nbconvert_exporter": "python",
   "pygments_lexer": "ipython3",
   "version": "3.7.8"
  }
 },
 "nbformat": 4,
 "nbformat_minor": 4
}
