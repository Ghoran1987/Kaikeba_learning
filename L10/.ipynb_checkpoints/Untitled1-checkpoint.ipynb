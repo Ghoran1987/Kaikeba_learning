{
 "cells": [
  {
   "cell_type": "code",
   "execution_count": 34,
   "metadata": {},
   "outputs": [],
   "source": [
    "from textrank4zh import TextRank4Keyword, TextRank4Sentence\n",
    "import jieba\n",
    "import jieba.analyse\n",
    "import jieba.posseg as pseg"
   ]
  },
  {
   "cell_type": "code",
   "execution_count": 35,
   "metadata": {},
   "outputs": [],
   "source": [
    "filename = 'news_高考.txt' \n",
    "text=''\n",
    "with open(filename, 'r',encoding='utf-8') as file_to_read:\n",
    "    while True:\n",
    "        lines = file_to_read.readline() # 整行读取数据\n",
    "        if not lines:\n",
    "            break\n",
    "        text+=lines"
   ]
  },
  {
   "cell_type": "code",
   "execution_count": 36,
   "metadata": {},
   "outputs": [
    {
     "name": "stdout",
     "output_type": "stream",
     "text": [
      "﻿7月23日，在万般期待中，各地2020年高考录取分数线陆续公布，拿到分数后的考生们可谓有人欢喜有人愁。安徽省当天也公布了录取分数线，其中文理科一本分数线分别为541分和515分，二本分数线分别为499分和435分。那么被称为亚洲最大的“高考工厂”毛坦厂中学高考成绩怎样？图为毛坦厂中学教室午休的考生。\n",
      "7月23日，毛坦厂中学所在的安徽六安市毛坦厂镇官方发布喜报称，根据网络查询，六安市毛坦厂中学、金安高级中学、金安中学补习班2020年高考再创佳绩，再传捷报，安徽籍考生（不含外省考生）本科达线人数10176人，其中600分以上600分以上290人，理科最高分674分，文科最高分608分。也就是在2020年高考中，高考镇有1万多人达到本科线，听起来多少有点让人吃惊，这个数字还不包括其他十几个省份在毛坦厂复读的数百名考生。图为高考镇放学盛大的场面。今年的高考很特殊，因为疫情课业停摆两个多月，随后高考推迟一个月才考试，而就在考试进行时，安徽歙县因为洪水语文和数学被延期考试，湖北黄梅的考生硬是蹚水去考场，而云南一地的考生，考试时还发生了地震。图为高考前，高考镇的卡点。毛坦厂镇因为高考而驰名，被称为“亚洲最大的高考工厂”，外媒曾称该镇是一座偏僻的单一产业城镇，出产的是应试机器，就像其他一些专门生产袜子或圣诞饰品的中国乡镇一样心无旁骛。毛坦厂镇今年参加高考的考生人数超过1.7万人，涉及全国十多个省份。图为考生在上晚自习努力，这一万多名考生或将改变命运，或许这就是高考镇存在的意义。\n"
     ]
    }
   ],
   "source": [
    "print(text)"
   ]
  },
  {
   "cell_type": "code",
   "execution_count": 63,
   "metadata": {},
   "outputs": [
    {
     "name": "stdout",
     "output_type": "stream",
     "text": [
      "关键词：\n",
      "高考 1.0\n",
      "毛坦厂 0.6342145751930124\n",
      "考生 0.6138448967887747\n",
      "中学 0.37925829811756906\n",
      "安徽 0.25789066876960237\n",
      "分数线 0.24540705222707623\n",
      "公布 0.21337496843785472\n",
      "省份 0.21216652518998558\n",
      "六安市 0.20442365096073797\n",
      "工厂 0.17267749502592833\n",
      "录取 0.1583648175323575\n",
      "饰品 0.15442098380412253\n",
      "语文 0.14233749135857338\n",
      "亚洲 0.13787135117876095\n",
      "课业 0.13676445738106022\n",
      "起来 0.13672561613332546\n",
      "城镇 0.13672561613332546\n",
      "疫情 0.1361330479216454\n",
      "有点 0.13573585826804851\n",
      "产业 0.13573585826804851\n"
     ]
    }
   ],
   "source": [
    "#采用jieba.analyse.textrank获取关键词\n",
    "# 获取分词\n",
    "jieba.add_word('毛坦厂')#毛坦厂为主要关键词，但不能识别出来，所以添加进去\n",
    "seg_list = jieba.cut(text, cut_all=False)\n",
    "# 获取分词和词性\n",
    "#words = pseg.cut(text)\n",
    "#for word, flag in words:\n",
    "    #print('%s, %s' % (word, flag))\n",
    "#for word, flag in words:\n",
    "#print('%s, %s' % (word, flag))\n",
    "#因为‘毛坦厂’为人为添加，所以其词性为‘x’,在获取关键词时，应允许词性‘x’的词作为关键词\n",
    "keywords = jieba.analyse.textrank(text, topK=20, withWeight=True, allowPOS=('n', 'ns','x','v')) \n",
    "print('关键词：')\n",
    "for item in keywords:\n",
    "    print(item[0],item[1])"
   ]
  },
  {
   "cell_type": "code",
   "execution_count": 64,
   "metadata": {},
   "outputs": [
    {
     "name": "stdout",
     "output_type": "stream",
     "text": [
      "关键词：\n",
      "高考 0.05159663695788354\n",
      "考生 0.047241839334511856\n",
      "中学 0.024630110636460652\n",
      "安徽 0.018703013040476033\n",
      "考试 0.01689412371932201\n",
      "公布 0.015143545979284362\n",
      "分数线 0.014348271267993748\n",
      "六安市 0.014158634225706701\n",
      "人数 0.013872446120960618\n",
      "出产 0.012439450052423407\n",
      "录取 0.012135205605888731\n",
      "中国 0.011502195836951183\n",
      "袜子 0.011217409930917549\n",
      "饰品 0.011205666029514927\n",
      "圣诞 0.011140279613653773\n",
      "金安 0.01113983328953294\n",
      "最高分 0.010763405556656617\n",
      "省份 0.010580068039568138\n",
      "起来 0.01034547770141888\n",
      "疫情 0.009694619486185167\n"
     ]
    }
   ],
   "source": [
    "#采用TextRank4Keyword方法获取关键词\n",
    "# 输出关键词，设置文本小写，窗口为2\n",
    "tr4w = TextRank4Keyword()\n",
    "tr4w.analyze(text=text, lower=True, window=3)\n",
    "print('关键词：')\n",
    "for item in tr4w.get_keywords(20, word_min_len=2):\n",
    "    print(item.word, item.weight)"
   ]
  },
  {
   "cell_type": "code",
   "execution_count": 70,
   "metadata": {},
   "outputs": [
    {
     "name": "stdout",
     "output_type": "stream",
     "text": [
      "摘要：\n",
      "7月23日，毛坦厂中学所在的安徽六安市毛坦厂镇官方发布喜报称，根据网络查询，六安市毛坦厂中学、金安高级中学、金安中学补习班2020年高考再创佳绩，再传捷报，安徽籍考生（不含外省考生）本科达线人数10176人，其中600分以上600分以上290人，理科最高分674分，文科最高分608分 4 0.11306036563972595\n",
      "毛坦厂镇今年参加高考的考生人数超过1.7万人，涉及全国十多个省份 10 0.09772411595268479\n",
      "图为考生在上晚自习努力，这一万多名考生或将改变命运，或许这就是高考镇存在的意义 11 0.09380653118646555\n"
     ]
    }
   ],
   "source": [
    "# 输出重要的句子\n",
    "tr4s = TextRank4Sentence()\n",
    "tr4s.analyze(text=text, lower=True, source = 'all_filters')\n",
    "print('摘要：')\n",
    "# 重要性较高的三个句子\n",
    "for item in tr4s.get_key_sentences(num=3):\n",
    "    print(item.sentence,item.index, item.weight)"
   ]
  }
 ],
 "metadata": {
  "kernelspec": {
   "display_name": "Python 3",
   "language": "python",
   "name": "python3"
  },
  "language_info": {
   "codemirror_mode": {
    "name": "ipython",
    "version": 3
   },
   "file_extension": ".py",
   "mimetype": "text/x-python",
   "name": "python",
   "nbconvert_exporter": "python",
   "pygments_lexer": "ipython3",
   "version": "3.7.8"
  }
 },
 "nbformat": 4,
 "nbformat_minor": 4
}
