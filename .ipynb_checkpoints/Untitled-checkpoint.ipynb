{
 "cells": [
  {
   "cell_type": "markdown",
   "metadata": {},
   "source": [
    "#针对MarketBasket数据集进行购物篮分析（频繁项集及关联规则挖掘）"
   ]
  },
  {
   "cell_type": "code",
   "execution_count": null,
   "metadata": {},
   "outputs": [],
   "source": [
    "from efficient_apriori import apriori\n",
    "import pandas as pd\n",
    "import numpy as np\n",
    "# 数据加载\n",
    "datas = pd.read_csv('./Market_Basket_Optimisation.csv',header=None)\n",
    "# 数据处理，清除空值\n",
    "transactions = []\n",
    "for i in range(datas.shape[0]):\n",
    "    data=datas.values[i,:]\n",
    "    temp_set=data[~pd.isnull(data)]\n",
    "    transactions.append(temp_set)\n",
    "   # print(transactions)\n",
    "\n",
    "itemsets, rules = apriori(transactions, min_support=0.02,  min_confidence=0.5)\n",
    "print(\"频繁项集：\", itemsets)\n",
    "print(\"关联规则：\", rules)"
   ]
  },
  {
   "cell_type": "code",
   "execution_count": null,
   "metadata": {},
   "outputs": [],
   "source": []
  }
 ],
 "metadata": {
  "kernelspec": {
   "display_name": "Python 3",
   "language": "python",
   "name": "python3"
  },
  "language_info": {
   "codemirror_mode": {
    "name": "ipython",
    "version": 3
   },
   "file_extension": ".py",
   "mimetype": "text/x-python",
   "name": "python",
   "nbconvert_exporter": "python",
   "pygments_lexer": "ipython3",
   "version": "3.7.8"
  }
 },
 "nbformat": 4,
 "nbformat_minor": 4
}
