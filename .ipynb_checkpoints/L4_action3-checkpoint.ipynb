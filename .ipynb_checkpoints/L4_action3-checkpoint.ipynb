{
 "cells": [
  {
   "cell_type": "code",
   "execution_count": 62,
   "metadata": {},
   "outputs": [],
   "source": [
    "import random\n",
    "grammar = '''\n",
    "战斗 => 施法  ， 结果 。\n",
    "施法 => 主语 动作 技能 \n",
    "\n",
    "结果 => 主语 获得 效果\n",
    "\n",
    "主语 => 张飞 | 关羽 | 赵云 | 典韦 | 许褚 | 刘备 | 黄忠 | 曹操 | 鲁班七号 | 貂蝉\n",
    "动作 => 施放 | 使用 | 召唤 \n",
    "技能 => 一骑当千 | 单刀赴会 | 青龙偃月 | 刀锋铁骑 | 黑暗潜能 | 画地为牢 | 守护机关 | 狂兽血性 | 龙鸣 | 惊雷之龙 | 破云之龙 | 天翔之龙\n",
    "获得 => 损失 | 获得 \n",
    "效果 => 数值 状态\n",
    "数值 => 1 | 1000 |5000 | 100 \n",
    "状态 => 法力 | 生命\n",
    "'''"
   ]
  },
  {
   "cell_type": "code",
   "execution_count": 72,
   "metadata": {},
   "outputs": [],
   "source": [
    "def get_Gramdict(gram,linesplit='\\n',gramsplit='=>'):\n",
    "    result={}\n",
    "    for line in gram.split(linesplit):#对grammar按行划分\n",
    "        if line.strip():              #line不为空行\n",
    "            i,contents=line.split(gramsplit)#将每行划分为‘=>'前和=>'后两个部分\n",
    "            #print(i)\n",
    "            #print(content)\n",
    "            result[i.strip()]=[content.split() for content in contents.split('|')]#先根据'|'对每行数据进行划分，再将划分后的数据根据空格进行划分，结果作为result字典的Value\n",
    "        return result"
   ]
  },
  {
   "cell_type": "code",
   "execution_count": 73,
   "metadata": {},
   "outputs": [
    {
     "name": "stdout",
     "output_type": "stream",
     "text": [
      "{'战斗': [['施法', '，', '结果', '。']], '施法': [['主语', '动作', '技能']], '结果': [['主语', '获得', '效果']], '主语': [['张飞'], ['关羽'], ['赵云'], ['典韦'], ['许褚'], ['刘备'], ['黄忠'], ['曹操'], ['鲁班七号'], ['貂蝉']], '动作': [['施放'], ['使用'], ['召唤']], '技能': [['一骑当千'], ['单刀赴会'], ['青龙偃月'], ['刀锋铁骑'], ['黑暗潜能'], ['画地为牢'], ['守护机关'], ['狂兽血性'], ['龙鸣'], ['惊雷之龙'], ['破云之龙'], ['天翔之龙']], '获得': [['损失'], ['获得']], '效果': [['数值', '状态']], '数值': [['1'], ['1000'], ['5000'], ['100']], '状态': [['法力'], ['生命']]}\n"
     ]
    }
   ],
   "source": [
    "gramdict=get_Gramdict(grammar)#将grammar分解结果赋值给gramdict\n",
    "print(gramdict)"
   ]
  },
  {
   "cell_type": "code",
   "execution_count": 75,
   "metadata": {},
   "outputs": [],
   "source": [
    "def generate_dialogue(gramdict, target, isEng = False):#isEng是针对语法中存在英文字母的情况拟定的\n",
    "    if target not in gramdict:    #给定的target如果不在gramdict的键中，则直接返回Target，比如‘战斗’中的逗号以及句号。\n",
    "        return target\n",
    "    answer=random.choice(gramdict[target])#在字典的值中，随机选取一个值    \n",
    "    addspace=''                           #不存在英文字母时，两字符之间不增加空格，存在英文字母时，则必须加空格区分相邻俩单词\n",
    "    if isEng:\n",
    "        addspace=' '\n",
    "    return addspace.join(generate_dialogue(gramdict,t,isEng) for t in answer) #参考的老师代码，妙！"
   ]
  },
  {
   "cell_type": "code",
   "execution_count": 76,
   "metadata": {},
   "outputs": [
    {
     "name": "stdout",
     "output_type": "stream",
     "text": [
      "许褚施放青龙偃月，张飞损失1法力。\n",
      "鲁班七号 召唤 惊雷之龙 ， 典韦 损失 5000 法力 。\n"
     ]
    }
   ],
   "source": [
    "print(generate_dialogue(gramdict,\"战斗\"))\n",
    "print(generate_dialogue(gramdict,\"战斗\", True))"
   ]
  }
 ],
 "metadata": {
  "kernelspec": {
   "display_name": "Python 3",
   "language": "python",
   "name": "python3"
  },
  "language_info": {
   "codemirror_mode": {
    "name": "ipython",
    "version": 3
   },
   "file_extension": ".py",
   "mimetype": "text/x-python",
   "name": "python",
   "nbconvert_exporter": "python",
   "pygments_lexer": "ipython3",
   "version": "3.7.8"
  }
 },
 "nbformat": 4,
 "nbformat_minor": 4
}
