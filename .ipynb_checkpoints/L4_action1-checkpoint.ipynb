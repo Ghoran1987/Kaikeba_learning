{
 "cells": [
  {
   "cell_type": "code",
   "execution_count": 2,
   "metadata": {},
   "outputs": [],
   "source": [
    "from surprise import Dataset\n",
    "from surprise import Reader\n",
    "from surprise import BaselineOnly, KNNBasic\n",
    "from surprise import accuracy\n",
    "from surprise.model_selection import KFold"
   ]
  },
  {
   "cell_type": "code",
   "execution_count": null,
   "metadata": {},
   "outputs": [],
   "source": [
    "'''\n",
    "原理说明：\n",
    "选择了scikit的surprise库来进行推荐，分别使用了ALS和SGD两种优化方法。\n",
    "采用的推荐模型是隐语义模型，其基本思想是通过对稀疏矩阵进行模型分解，评估出缺失项的值，以此来得到一个基本的训练模型（采用ALS和SGD对训练模型进行优化）。\n",
    "然后依照此模型针对新的用户和物品数据进行评估。\n",
    "'''"
   ]
  },
  {
   "cell_type": "code",
   "execution_count": 16,
   "metadata": {},
   "outputs": [
    {
     "name": "stdout",
     "output_type": "stream",
     "text": [
      "range(0, 7120)\n",
      "range(0, 14026)\n",
      "['__class__', '__del__', '__delattr__', '__dir__', '__doc__', '__eq__', '__format__', '__ge__', '__getattribute__', '__gt__', '__hash__', '__init__', '__init_subclass__', '__iter__', '__le__', '__lt__', '__name__', '__ne__', '__new__', '__next__', '__qualname__', '__reduce__', '__reduce_ex__', '__repr__', '__setattr__', '__sizeof__', '__str__', '__subclasshook__', 'close', 'gi_code', 'gi_frame', 'gi_running', 'gi_yieldfrom', 'send', 'throw']\n"
     ]
    }
   ],
   "source": [
    "#读取文档数据\n",
    "reader = Reader(line_format='user item rating timestamp', sep=',', skip_lines=1)\n",
    "data = Dataset.load_from_file('./ratings.csv', reader=reader)\n",
    "train_set = data.build_full_trainset()"
   ]
  },
  {
   "cell_type": "code",
   "execution_count": 20,
   "metadata": {},
   "outputs": [],
   "source": [
    "bsl_options_als = {'method': 'als','n_epochs': 5,'reg_u': 12,'reg_i': 5}#传递参数，采用ALS（交替最小二乘法）优化方法，迭代5次，user的正则化参数设置为12，item的正则化参数设置为5"
   ]
  },
  {
   "cell_type": "code",
   "execution_count": 21,
   "metadata": {},
   "outputs": [],
   "source": [
    "bsl_options_sgd = {'method': 'sgd','n_epochs': 5}#传递参数，采用SGD(随机梯度下降)优化方法，迭代5次"
   ]
  },
  {
   "cell_type": "code",
   "execution_count": 22,
   "metadata": {},
   "outputs": [],
   "source": [
    "algo_als= BaselineOnly(bsl_options=bsl_options_als)"
   ]
  },
  {
   "cell_type": "code",
   "execution_count": 23,
   "metadata": {},
   "outputs": [],
   "source": [
    "algo_sgd= BaselineOnly(bsl_options=bsl_options_sgd)"
   ]
  },
  {
   "cell_type": "code",
   "execution_count": 27,
   "metadata": {},
   "outputs": [
    {
     "name": "stdout",
     "output_type": "stream",
     "text": [
      "Estimating biases using als...\n",
      "RMSE: 0.8617\n",
      "Estimating biases using als...\n",
      "RMSE: 0.8651\n",
      "Estimating biases using als...\n",
      "RMSE: 0.8651\n",
      "user: 505        item: 11000      r_ui = 4.00   est = 3.72   {'was_impossible': False}\n"
     ]
    }
   ],
   "source": [
    "# 采用K折交叉验证,ALS优化的预测结果\n",
    "kf = KFold(n_splits=3)\n",
    "for trainset, testset in kf.split(data):\n",
    "    algo_als.fit(trainset)\n",
    "    predictions = algo_als.test(testset)\n",
    "    accuracy.rmse(predictions, verbose=True)\n",
    "\n",
    "uid = str(505)\n",
    "iid = str(11000)\n",
    "# 输出uid对iid的预测结果\n",
    "pred = algo_als.predict(uid, iid, r_ui=4, verbose=True)\n"
   ]
  },
  {
   "cell_type": "code",
   "execution_count": 28,
   "metadata": {},
   "outputs": [
    {
     "name": "stdout",
     "output_type": "stream",
     "text": [
      "Estimating biases using sgd...\n",
      "RMSE: 0.8754\n",
      "Estimating biases using sgd...\n",
      "RMSE: 0.8745\n",
      "Estimating biases using sgd...\n",
      "RMSE: 0.8730\n",
      "user: 505        item: 11000      r_ui = 4.00   est = 3.69   {'was_impossible': False}\n"
     ]
    }
   ],
   "source": [
    "# 采用K折交叉验证,SGD优化的预测结果\n",
    "kf = KFold(n_splits=3)\n",
    "for trainset, testset in kf.split(data):\n",
    "    algo_sgd.fit(trainset)\n",
    "    predictions = algo_sgd.test(testset)\n",
    "    accuracy.rmse(predictions, verbose=True)\n",
    "\n",
    "#假设id为505的用户对id为11000的商品的预测\n",
    "uid = str(505)\n",
    "iid = str(11000)\n",
    "# 对结果进行预测\n",
    "pred = algo_sgd.predict(uid, iid, r_ui=4, verbose=True)\n"
   ]
  },
  {
   "cell_type": "code",
   "execution_count": null,
   "metadata": {},
   "outputs": [],
   "source": []
  }
 ],
 "metadata": {
  "kernelspec": {
   "display_name": "Python 3",
   "language": "python",
   "name": "python3"
  },
  "language_info": {
   "codemirror_mode": {
    "name": "ipython",
    "version": 3
   },
   "file_extension": ".py",
   "mimetype": "text/x-python",
   "name": "python",
   "nbconvert_exporter": "python",
   "pygments_lexer": "ipython3",
   "version": "3.7.8"
  }
 },
 "nbformat": 4,
 "nbformat_minor": 4
}
